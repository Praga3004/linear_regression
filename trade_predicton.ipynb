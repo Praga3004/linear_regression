{
 "cells": [
  {
   "cell_type": "code",
   "execution_count": 3,
   "metadata": {},
   "outputs": [
    {
     "name": "stdout",
     "output_type": "stream",
     "text": [
      "Requirement already satisfied: matplotlib in c:\\users\\rahman\\appdata\\local\\programs\\python\\python312\\lib\\site-packages (3.8.2)\n",
      "Requirement already satisfied: contourpy>=1.0.1 in c:\\users\\rahman\\appdata\\local\\programs\\python\\python312\\lib\\site-packages (from matplotlib) (1.2.0)\n",
      "Requirement already satisfied: cycler>=0.10 in c:\\users\\rahman\\appdata\\local\\programs\\python\\python312\\lib\\site-packages (from matplotlib) (0.12.1)\n",
      "Requirement already satisfied: fonttools>=4.22.0 in c:\\users\\rahman\\appdata\\local\\programs\\python\\python312\\lib\\site-packages (from matplotlib) (4.47.0)\n",
      "Requirement already satisfied: kiwisolver>=1.3.1 in c:\\users\\rahman\\appdata\\local\\programs\\python\\python312\\lib\\site-packages (from matplotlib) (1.4.5)\n",
      "Requirement already satisfied: numpy<2,>=1.21 in c:\\users\\rahman\\appdata\\local\\programs\\python\\python312\\lib\\site-packages (from matplotlib) (1.26.2)\n",
      "Requirement already satisfied: packaging>=20.0 in c:\\users\\rahman\\appdata\\roaming\\python\\python312\\site-packages (from matplotlib) (23.2)\n",
      "Requirement already satisfied: pillow>=8 in c:\\users\\rahman\\appdata\\local\\programs\\python\\python312\\lib\\site-packages (from matplotlib) (10.2.0)\n",
      "Requirement already satisfied: pyparsing>=2.3.1 in c:\\users\\rahman\\appdata\\local\\programs\\python\\python312\\lib\\site-packages (from matplotlib) (3.1.1)\n",
      "Requirement already satisfied: python-dateutil>=2.7 in c:\\users\\rahman\\appdata\\roaming\\python\\python312\\site-packages (from matplotlib) (2.8.2)\n",
      "Requirement already satisfied: six>=1.5 in c:\\users\\rahman\\appdata\\roaming\\python\\python312\\site-packages (from python-dateutil>=2.7->matplotlib) (1.16.0)\n",
      "Note: you may need to restart the kernel to use updated packages.\n"
     ]
    },
    {
     "name": "stderr",
     "output_type": "stream",
     "text": [
      "\n",
      "[notice] A new release of pip is available: 23.3.1 -> 23.3.2\n",
      "[notice] To update, run: python.exe -m pip install --upgrade pip\n"
     ]
    },
    {
     "name": "stdout",
     "output_type": "stream",
     "text": [
      "Requirement already satisfied: seaborn in c:\\users\\rahman\\appdata\\local\\programs\\python\\python312\\lib\\site-packages (0.13.1)\n",
      "Requirement already satisfied: numpy!=1.24.0,>=1.20 in c:\\users\\rahman\\appdata\\local\\programs\\python\\python312\\lib\\site-packages (from seaborn) (1.26.2)\n",
      "Requirement already satisfied: pandas>=1.2 in c:\\users\\rahman\\appdata\\local\\programs\\python\\python312\\lib\\site-packages (from seaborn) (2.1.4)\n",
      "Requirement already satisfied: matplotlib!=3.6.1,>=3.4 in c:\\users\\rahman\\appdata\\local\\programs\\python\\python312\\lib\\site-packages (from seaborn) (3.8.2)\n",
      "Requirement already satisfied: contourpy>=1.0.1 in c:\\users\\rahman\\appdata\\local\\programs\\python\\python312\\lib\\site-packages (from matplotlib!=3.6.1,>=3.4->seaborn) (1.2.0)\n",
      "Requirement already satisfied: cycler>=0.10 in c:\\users\\rahman\\appdata\\local\\programs\\python\\python312\\lib\\site-packages (from matplotlib!=3.6.1,>=3.4->seaborn) (0.12.1)\n",
      "Requirement already satisfied: fonttools>=4.22.0 in c:\\users\\rahman\\appdata\\local\\programs\\python\\python312\\lib\\site-packages (from matplotlib!=3.6.1,>=3.4->seaborn) (4.47.0)\n",
      "Requirement already satisfied: kiwisolver>=1.3.1 in c:\\users\\rahman\\appdata\\local\\programs\\python\\python312\\lib\\site-packages (from matplotlib!=3.6.1,>=3.4->seaborn) (1.4.5)\n",
      "Requirement already satisfied: packaging>=20.0 in c:\\users\\rahman\\appdata\\roaming\\python\\python312\\site-packages (from matplotlib!=3.6.1,>=3.4->seaborn) (23.2)\n",
      "Requirement already satisfied: pillow>=8 in c:\\users\\rahman\\appdata\\local\\programs\\python\\python312\\lib\\site-packages (from matplotlib!=3.6.1,>=3.4->seaborn) (10.2.0)\n",
      "Requirement already satisfied: pyparsing>=2.3.1 in c:\\users\\rahman\\appdata\\local\\programs\\python\\python312\\lib\\site-packages (from matplotlib!=3.6.1,>=3.4->seaborn) (3.1.1)\n",
      "Requirement already satisfied: python-dateutil>=2.7 in c:\\users\\rahman\\appdata\\roaming\\python\\python312\\site-packages (from matplotlib!=3.6.1,>=3.4->seaborn) (2.8.2)\n",
      "Requirement already satisfied: pytz>=2020.1 in c:\\users\\rahman\\appdata\\local\\programs\\python\\python312\\lib\\site-packages (from pandas>=1.2->seaborn) (2023.3.post1)\n",
      "Requirement already satisfied: tzdata>=2022.1 in c:\\users\\rahman\\appdata\\local\\programs\\python\\python312\\lib\\site-packages (from pandas>=1.2->seaborn) (2023.4)\n",
      "Requirement already satisfied: six>=1.5 in c:\\users\\rahman\\appdata\\roaming\\python\\python312\\site-packages (from python-dateutil>=2.7->matplotlib!=3.6.1,>=3.4->seaborn) (1.16.0)\n",
      "Note: you may need to restart the kernel to use updated packages.\n"
     ]
    },
    {
     "name": "stderr",
     "output_type": "stream",
     "text": [
      "\n",
      "[notice] A new release of pip is available: 23.3.1 -> 23.3.2\n",
      "[notice] To update, run: python.exe -m pip install --upgrade pip\n"
     ]
    },
    {
     "name": "stdout",
     "output_type": "stream",
     "text": [
      "Note: you may need to restart the kernel to use updated packages.Requirement already satisfied: pandas in c:\\users\\rahman\\appdata\\local\\programs\\python\\python312\\lib\\site-packages (2.1.4)\n",
      "Requirement already satisfied: numpy<2,>=1.26.0 in c:\\users\\rahman\\appdata\\local\\programs\\python\\python312\\lib\\site-packages (from pandas) (1.26.2)\n",
      "Requirement already satisfied: python-dateutil>=2.8.2 in c:\\users\\rahman\\appdata\\roaming\\python\\python312\\site-packages (from pandas) (2.8.2)\n",
      "Requirement already satisfied: pytz>=2020.1 in c:\\users\\rahman\\appdata\\local\\programs\\python\\python312\\lib\\site-packages (from pandas) (2023.3.post1)\n",
      "Requirement already satisfied: tzdata>=2022.1 in c:\\users\\rahman\\appdata\\local\\programs\\python\\python312\\lib\\site-packages (from pandas) (2023.4)\n",
      "Requirement already satisfied: six>=1.5 in c:\\users\\rahman\\appdata\\roaming\\python\\python312\\site-packages (from python-dateutil>=2.8.2->pandas) (1.16.0)\n",
      "\n"
     ]
    },
    {
     "name": "stderr",
     "output_type": "stream",
     "text": [
      "\n",
      "[notice] A new release of pip is available: 23.3.1 -> 23.3.2\n",
      "[notice] To update, run: python.exe -m pip install --upgrade pip\n"
     ]
    },
    {
     "name": "stdout",
     "output_type": "stream",
     "text": [
      "Collecting scikit-learn\n",
      "  Downloading scikit_learn-1.3.2-cp312-cp312-win_amd64.whl.metadata (11 kB)\n",
      "Requirement already satisfied: numpy<2.0,>=1.17.3 in c:\\users\\rahman\\appdata\\local\\programs\\python\\python312\\lib\\site-packages (from scikit-learn) (1.26.2)\n",
      "Requirement already satisfied: scipy>=1.5.0 in c:\\users\\rahman\\appdata\\local\\programs\\python\\python312\\lib\\site-packages (from scikit-learn) (1.11.4)\n",
      "Collecting joblib>=1.1.1 (from scikit-learn)\n",
      "  Downloading joblib-1.3.2-py3-none-any.whl.metadata (5.4 kB)\n",
      "Collecting threadpoolctl>=2.0.0 (from scikit-learn)\n",
      "  Downloading threadpoolctl-3.2.0-py3-none-any.whl.metadata (10.0 kB)\n",
      "Downloading scikit_learn-1.3.2-cp312-cp312-win_amd64.whl (9.1 MB)\n",
      "   ---------------------------------------- 0.0/9.1 MB ? eta -:--:--\n",
      "   ---------------------------------------- 0.0/9.1 MB ? eta -:--:--\n",
      "   ---------------------------------------- 0.0/9.1 MB 1.4 MB/s eta 0:00:07\n",
      "   ---------------------------------------- 0.1/9.1 MB 1.7 MB/s eta 0:00:06\n",
      "   - -------------------------------------- 0.2/9.1 MB 1.9 MB/s eta 0:00:05\n",
      "   - -------------------------------------- 0.4/9.1 MB 2.0 MB/s eta 0:00:05\n",
      "   - -------------------------------------- 0.5/9.1 MB 2.2 MB/s eta 0:00:05\n",
      "   -- ------------------------------------- 0.6/9.1 MB 2.4 MB/s eta 0:00:04\n",
      "   --- ------------------------------------ 0.8/9.1 MB 2.4 MB/s eta 0:00:04\n",
      "   --- ------------------------------------ 0.9/9.1 MB 2.5 MB/s eta 0:00:04\n",
      "   ---- ----------------------------------- 1.0/9.1 MB 2.6 MB/s eta 0:00:04\n",
      "   ----- ---------------------------------- 1.2/9.1 MB 2.5 MB/s eta 0:00:04\n",
      "   ----- ---------------------------------- 1.3/9.1 MB 2.6 MB/s eta 0:00:04\n",
      "   ------ --------------------------------- 1.4/9.1 MB 2.5 MB/s eta 0:00:04\n",
      "   ------ --------------------------------- 1.5/9.1 MB 2.6 MB/s eta 0:00:03\n",
      "   ------- -------------------------------- 1.6/9.1 MB 2.5 MB/s eta 0:00:03\n",
      "   ------- -------------------------------- 1.8/9.1 MB 2.6 MB/s eta 0:00:03\n",
      "   -------- ------------------------------- 1.9/9.1 MB 2.6 MB/s eta 0:00:03\n",
      "   --------- ------------------------------ 2.1/9.1 MB 2.6 MB/s eta 0:00:03\n",
      "   --------- ------------------------------ 2.2/9.1 MB 2.6 MB/s eta 0:00:03\n",
      "   ---------- ----------------------------- 2.3/9.1 MB 2.6 MB/s eta 0:00:03\n",
      "   ---------- ----------------------------- 2.4/9.1 MB 2.6 MB/s eta 0:00:03\n",
      "   ----------- ---------------------------- 2.5/9.1 MB 2.6 MB/s eta 0:00:03\n",
      "   ----------- ---------------------------- 2.6/9.1 MB 2.7 MB/s eta 0:00:03\n",
      "   ------------ --------------------------- 2.8/9.1 MB 2.7 MB/s eta 0:00:03\n",
      "   ------------ --------------------------- 2.9/9.1 MB 2.6 MB/s eta 0:00:03\n",
      "   ------------- -------------------------- 3.0/9.1 MB 2.6 MB/s eta 0:00:03\n",
      "   ------------- -------------------------- 3.1/9.1 MB 2.6 MB/s eta 0:00:03\n",
      "   -------------- ------------------------- 3.2/9.1 MB 2.6 MB/s eta 0:00:03\n",
      "   -------------- ------------------------- 3.3/9.1 MB 2.6 MB/s eta 0:00:03\n",
      "   --------------- ------------------------ 3.4/9.1 MB 2.6 MB/s eta 0:00:03\n",
      "   --------------- ------------------------ 3.5/9.1 MB 2.6 MB/s eta 0:00:03\n",
      "   --------------- ------------------------ 3.6/9.1 MB 2.6 MB/s eta 0:00:03\n",
      "   ---------------- ----------------------- 3.7/9.1 MB 2.5 MB/s eta 0:00:03\n",
      "   ---------------- ----------------------- 3.8/9.1 MB 2.6 MB/s eta 0:00:03\n",
      "   ----------------- ---------------------- 4.0/9.1 MB 2.5 MB/s eta 0:00:03\n",
      "   ----------------- ---------------------- 4.1/9.1 MB 2.5 MB/s eta 0:00:03\n",
      "   ------------------ --------------------- 4.1/9.1 MB 2.5 MB/s eta 0:00:03\n",
      "   ------------------ --------------------- 4.2/9.1 MB 2.5 MB/s eta 0:00:02\n",
      "   ------------------ --------------------- 4.3/9.1 MB 2.4 MB/s eta 0:00:02\n",
      "   ------------------- -------------------- 4.4/9.1 MB 2.4 MB/s eta 0:00:02\n",
      "   ------------------- -------------------- 4.4/9.1 MB 2.4 MB/s eta 0:00:02\n",
      "   ------------------- -------------------- 4.5/9.1 MB 2.4 MB/s eta 0:00:02\n",
      "   ------------------- -------------------- 4.5/9.1 MB 2.3 MB/s eta 0:00:02\n",
      "   -------------------- ------------------- 4.6/9.1 MB 2.3 MB/s eta 0:00:02\n",
      "   -------------------- ------------------- 4.7/9.1 MB 2.3 MB/s eta 0:00:02\n",
      "   -------------------- ------------------- 4.7/9.1 MB 2.3 MB/s eta 0:00:02\n",
      "   -------------------- ------------------- 4.8/9.1 MB 2.3 MB/s eta 0:00:02\n",
      "   --------------------- ------------------ 4.8/9.1 MB 2.2 MB/s eta 0:00:02\n",
      "   --------------------- ------------------ 4.9/9.1 MB 2.2 MB/s eta 0:00:02\n",
      "   --------------------- ------------------ 4.9/9.1 MB 2.2 MB/s eta 0:00:02\n",
      "   --------------------- ------------------ 5.0/9.1 MB 2.2 MB/s eta 0:00:02\n",
      "   ---------------------- ----------------- 5.0/9.1 MB 2.1 MB/s eta 0:00:02\n",
      "   ---------------------- ----------------- 5.1/9.1 MB 2.1 MB/s eta 0:00:02\n",
      "   ---------------------- ----------------- 5.1/9.1 MB 2.1 MB/s eta 0:00:02\n",
      "   ---------------------- ----------------- 5.2/9.1 MB 2.1 MB/s eta 0:00:02\n",
      "   ----------------------- ---------------- 5.3/9.1 MB 2.1 MB/s eta 0:00:02\n",
      "   ----------------------- ---------------- 5.3/9.1 MB 2.1 MB/s eta 0:00:02\n",
      "   ----------------------- ---------------- 5.4/9.1 MB 2.0 MB/s eta 0:00:02\n",
      "   ----------------------- ---------------- 5.4/9.1 MB 2.0 MB/s eta 0:00:02\n",
      "   ------------------------ --------------- 5.5/9.1 MB 2.0 MB/s eta 0:00:02\n",
      "   ------------------------ --------------- 5.5/9.1 MB 2.0 MB/s eta 0:00:02\n",
      "   ------------------------ --------------- 5.6/9.1 MB 2.0 MB/s eta 0:00:02\n",
      "   ------------------------ --------------- 5.7/9.1 MB 2.0 MB/s eta 0:00:02\n",
      "   ------------------------- -------------- 5.7/9.1 MB 2.0 MB/s eta 0:00:02\n",
      "   ------------------------- -------------- 5.7/9.1 MB 1.9 MB/s eta 0:00:02\n",
      "   ------------------------- -------------- 5.8/9.1 MB 1.9 MB/s eta 0:00:02\n",
      "   ------------------------- -------------- 5.8/9.1 MB 1.9 MB/s eta 0:00:02\n",
      "   ------------------------- -------------- 5.9/9.1 MB 1.9 MB/s eta 0:00:02\n",
      "   ------------------------- -------------- 5.9/9.1 MB 1.9 MB/s eta 0:00:02\n",
      "   -------------------------- ------------- 5.9/9.1 MB 1.9 MB/s eta 0:00:02\n",
      "   -------------------------- ------------- 6.0/9.1 MB 1.8 MB/s eta 0:00:02\n",
      "   -------------------------- ------------- 6.0/9.1 MB 1.8 MB/s eta 0:00:02\n",
      "   -------------------------- ------------- 6.1/9.1 MB 1.8 MB/s eta 0:00:02\n",
      "   -------------------------- ------------- 6.1/9.1 MB 1.8 MB/s eta 0:00:02\n",
      "   -------------------------- ------------- 6.1/9.1 MB 1.8 MB/s eta 0:00:02\n",
      "   --------------------------- ------------ 6.2/9.1 MB 1.8 MB/s eta 0:00:02\n",
      "   --------------------------- ------------ 6.2/9.1 MB 1.8 MB/s eta 0:00:02\n",
      "   --------------------------- ------------ 6.3/9.1 MB 1.7 MB/s eta 0:00:02\n",
      "   --------------------------- ------------ 6.3/9.1 MB 1.7 MB/s eta 0:00:02\n",
      "   --------------------------- ------------ 6.4/9.1 MB 1.7 MB/s eta 0:00:02\n",
      "   ---------------------------- ----------- 6.4/9.1 MB 1.7 MB/s eta 0:00:02\n",
      "   ---------------------------- ----------- 6.5/9.1 MB 1.7 MB/s eta 0:00:02\n",
      "   ---------------------------- ----------- 6.5/9.1 MB 1.7 MB/s eta 0:00:02\n",
      "   ---------------------------- ----------- 6.6/9.1 MB 1.7 MB/s eta 0:00:02\n",
      "   ----------------------------- ---------- 6.6/9.1 MB 1.7 MB/s eta 0:00:02\n",
      "   ----------------------------- ---------- 6.7/9.1 MB 1.7 MB/s eta 0:00:02\n",
      "   ----------------------------- ---------- 6.8/9.1 MB 1.7 MB/s eta 0:00:02\n",
      "   ----------------------------- ---------- 6.8/9.1 MB 1.7 MB/s eta 0:00:02\n",
      "   ------------------------------ --------- 6.9/9.1 MB 1.7 MB/s eta 0:00:02\n",
      "   ------------------------------ --------- 6.9/9.1 MB 1.7 MB/s eta 0:00:02\n",
      "   ------------------------------ --------- 7.0/9.1 MB 1.7 MB/s eta 0:00:02\n",
      "   ------------------------------- -------- 7.1/9.1 MB 1.7 MB/s eta 0:00:02\n",
      "   ------------------------------- -------- 7.2/9.1 MB 1.7 MB/s eta 0:00:02\n",
      "   ------------------------------- -------- 7.2/9.1 MB 1.7 MB/s eta 0:00:02\n",
      "   ------------------------------- -------- 7.3/9.1 MB 1.7 MB/s eta 0:00:02\n",
      "   -------------------------------- ------- 7.4/9.1 MB 1.7 MB/s eta 0:00:02\n",
      "   -------------------------------- ------- 7.4/9.1 MB 1.6 MB/s eta 0:00:02\n",
      "   --------------------------------- ------ 7.6/9.1 MB 1.7 MB/s eta 0:00:01\n",
      "   --------------------------------- ------ 7.6/9.1 MB 1.6 MB/s eta 0:00:01\n",
      "   --------------------------------- ------ 7.7/9.1 MB 1.7 MB/s eta 0:00:01\n",
      "   ---------------------------------- ----- 7.8/9.1 MB 1.7 MB/s eta 0:00:01\n",
      "   ---------------------------------- ----- 7.9/9.1 MB 1.7 MB/s eta 0:00:01\n",
      "   ---------------------------------- ----- 7.9/9.1 MB 1.7 MB/s eta 0:00:01\n",
      "   ---------------------------------- ----- 7.9/9.1 MB 1.7 MB/s eta 0:00:01\n",
      "   ---------------------------------- ----- 7.9/9.1 MB 1.7 MB/s eta 0:00:01\n",
      "   ----------------------------------- ---- 8.0/9.1 MB 1.6 MB/s eta 0:00:01\n",
      "   ----------------------------------- ---- 8.1/9.1 MB 1.6 MB/s eta 0:00:01\n",
      "   ----------------------------------- ---- 8.1/9.1 MB 1.6 MB/s eta 0:00:01\n",
      "   ----------------------------------- ---- 8.2/9.1 MB 1.6 MB/s eta 0:00:01\n",
      "   ------------------------------------ --- 8.3/9.1 MB 1.6 MB/s eta 0:00:01\n",
      "   ------------------------------------ --- 8.3/9.1 MB 1.6 MB/s eta 0:00:01\n",
      "   ------------------------------------ --- 8.4/9.1 MB 1.6 MB/s eta 0:00:01\n",
      "   ------------------------------------- -- 8.5/9.1 MB 1.6 MB/s eta 0:00:01\n",
      "   ------------------------------------- -- 8.6/9.1 MB 1.6 MB/s eta 0:00:01\n",
      "   -------------------------------------- - 8.7/9.1 MB 1.6 MB/s eta 0:00:01\n",
      "   -------------------------------------- - 8.8/9.1 MB 1.6 MB/s eta 0:00:01\n",
      "   ---------------------------------------  8.9/9.1 MB 1.6 MB/s eta 0:00:01\n",
      "   ---------------------------------------  9.0/9.1 MB 1.6 MB/s eta 0:00:01\n",
      "   ---------------------------------------  9.0/9.1 MB 1.6 MB/s eta 0:00:01\n",
      "   ---------------------------------------  9.0/9.1 MB 1.6 MB/s eta 0:00:01\n",
      "   ---------------------------------------  9.1/9.1 MB 1.6 MB/s eta 0:00:01\n",
      "   ---------------------------------------  9.1/9.1 MB 1.6 MB/s eta 0:00:01\n",
      "   ---------------------------------------  9.1/9.1 MB 1.6 MB/s eta 0:00:01\n",
      "   ---------------------------------------- 9.1/9.1 MB 1.5 MB/s eta 0:00:00\n",
      "Downloading joblib-1.3.2-py3-none-any.whl (302 kB)\n",
      "   ---------------------------------------- 0.0/302.2 kB ? eta -:--:--\n",
      "   ------------ --------------------------- 92.2/302.2 kB 1.7 MB/s eta 0:00:01\n",
      "   -------------------- ------------------- 153.6/302.2 kB 1.3 MB/s eta 0:00:01\n",
      "   ------------------------------- -------- 235.5/302.2 kB 1.4 MB/s eta 0:00:01\n",
      "   ------------------------------------- -- 286.7/302.2 kB 1.4 MB/s eta 0:00:01\n",
      "   ---------------------------------------- 302.2/302.2 kB 1.2 MB/s eta 0:00:00\n",
      "Downloading threadpoolctl-3.2.0-py3-none-any.whl (15 kB)\n",
      "Installing collected packages: threadpoolctl, joblib, scikit-learn\n",
      "Successfully installed joblib-1.3.2 scikit-learn-1.3.2 threadpoolctl-3.2.0\n",
      "Note: you may need to restart the kernel to use updated packages.\n"
     ]
    },
    {
     "name": "stderr",
     "output_type": "stream",
     "text": [
      "\n",
      "[notice] A new release of pip is available: 23.3.1 -> 23.3.2\n",
      "[notice] To update, run: python.exe -m pip install --upgrade pip\n"
     ]
    }
   ],
   "source": [
    "%pip install matplotlib\n",
    "%pip install seaborn\n",
    "%pip install pandas\n",
    "%pip install scikit-learn"
   ]
  },
  {
   "cell_type": "code",
   "execution_count": 15,
   "metadata": {},
   "outputs": [],
   "source": [
    "import numpy as np \n",
    "import matplotlib.pyplot as plt \n",
    "import seaborn as sns \n",
    "import pandas as pd \n",
    "\n",
    "from sklearn.model_selection import train_test_split\n",
    "from sklearn.linear_model import LinearRegression"
   ]
  },
  {
   "cell_type": "code",
   "execution_count": 5,
   "metadata": {},
   "outputs": [
    {
     "name": "stdout",
     "output_type": "stream",
     "text": [
      "<class 'pandas.core.frame.DataFrame'>\n",
      "RangeIndex: 1084 entries, 0 to 1083\n",
      "Data columns (total 7 columns):\n",
      " #   Column    Non-Null Count  Dtype \n",
      "---  ------    --------------  ----- \n",
      " 0   Date      1084 non-null   object\n",
      " 1   Price     1084 non-null   object\n",
      " 2   Open      1084 non-null   object\n",
      " 3   High      1084 non-null   object\n",
      " 4   Low       1084 non-null   object\n",
      " 5   Vol.      1084 non-null   object\n",
      " 6   Change %  1084 non-null   object\n",
      "dtypes: object(7)\n",
      "memory usage: 59.4+ KB\n"
     ]
    }
   ],
   "source": [
    "data = pd.read_csv(r'F:\\Projects\\New folder\\linear_regression\\data_set.csv')\n",
    "data.info()"
   ]
  },
  {
   "cell_type": "code",
   "execution_count": 6,
   "metadata": {},
   "outputs": [
    {
     "data": {
      "text/plain": [
       "Index(['Date', 'Price', 'Open', 'High', 'Low', 'Vol.', 'Change %'], dtype='object')"
      ]
     },
     "execution_count": 6,
     "metadata": {},
     "output_type": "execute_result"
    }
   ],
   "source": [
    "data.columns"
   ]
  },
  {
   "cell_type": "code",
   "execution_count": 7,
   "metadata": {},
   "outputs": [
    {
     "data": {
      "text/html": [
       "<div>\n",
       "<style scoped>\n",
       "    .dataframe tbody tr th:only-of-type {\n",
       "        vertical-align: middle;\n",
       "    }\n",
       "\n",
       "    .dataframe tbody tr th {\n",
       "        vertical-align: top;\n",
       "    }\n",
       "\n",
       "    .dataframe thead th {\n",
       "        text-align: right;\n",
       "    }\n",
       "</style>\n",
       "<table border=\"1\" class=\"dataframe\">\n",
       "  <thead>\n",
       "    <tr style=\"text-align: right;\">\n",
       "      <th></th>\n",
       "      <th>Date</th>\n",
       "      <th>Price</th>\n",
       "      <th>Open</th>\n",
       "      <th>High</th>\n",
       "      <th>Low</th>\n",
       "      <th>Vol.</th>\n",
       "      <th>Change %</th>\n",
       "    </tr>\n",
       "  </thead>\n",
       "  <tbody>\n",
       "    <tr>\n",
       "      <th>0</th>\n",
       "      <td>01/09/2021</td>\n",
       "      <td>40,093.5</td>\n",
       "      <td>40,573.4</td>\n",
       "      <td>41,125.0</td>\n",
       "      <td>39,449.1</td>\n",
       "      <td>0.15K</td>\n",
       "      <td>-1.18%</td>\n",
       "    </tr>\n",
       "    <tr>\n",
       "      <th>1</th>\n",
       "      <td>01/08/2021</td>\n",
       "      <td>40,573.4</td>\n",
       "      <td>39,429.5</td>\n",
       "      <td>41,226.2</td>\n",
       "      <td>37,951.6</td>\n",
       "      <td>0.31K</td>\n",
       "      <td>2.90%</td>\n",
       "    </tr>\n",
       "    <tr>\n",
       "      <th>2</th>\n",
       "      <td>01/07/2021</td>\n",
       "      <td>39,429.5</td>\n",
       "      <td>36,716.5</td>\n",
       "      <td>39,429.5</td>\n",
       "      <td>36,716.5</td>\n",
       "      <td>0.28K</td>\n",
       "      <td>7.39%</td>\n",
       "    </tr>\n",
       "    <tr>\n",
       "      <th>3</th>\n",
       "      <td>01/06/2021</td>\n",
       "      <td>36,716.5</td>\n",
       "      <td>33,942.1</td>\n",
       "      <td>36,716.5</td>\n",
       "      <td>33,808.0</td>\n",
       "      <td>0.29K</td>\n",
       "      <td>8.17%</td>\n",
       "    </tr>\n",
       "    <tr>\n",
       "      <th>4</th>\n",
       "      <td>01/05/2021</td>\n",
       "      <td>33,942.1</td>\n",
       "      <td>32,000.0</td>\n",
       "      <td>33,942.1</td>\n",
       "      <td>30,940.8</td>\n",
       "      <td>0.25K</td>\n",
       "      <td>6.14%</td>\n",
       "    </tr>\n",
       "  </tbody>\n",
       "</table>\n",
       "</div>"
      ],
      "text/plain": [
       "         Date     Price      Open      High       Low   Vol. Change %\n",
       "0  01/09/2021  40,093.5  40,573.4  41,125.0  39,449.1  0.15K   -1.18%\n",
       "1  01/08/2021  40,573.4  39,429.5  41,226.2  37,951.6  0.31K    2.90%\n",
       "2  01/07/2021  39,429.5  36,716.5  39,429.5  36,716.5  0.28K    7.39%\n",
       "3  01/06/2021  36,716.5  33,942.1  36,716.5  33,808.0  0.29K    8.17%\n",
       "4  01/05/2021  33,942.1  32,000.0  33,942.1  30,940.8  0.25K    6.14%"
      ]
     },
     "execution_count": 7,
     "metadata": {},
     "output_type": "execute_result"
    }
   ],
   "source": [
    "data.head()"
   ]
  },
  {
   "cell_type": "code",
   "execution_count": 42,
   "metadata": {},
   "outputs": [],
   "source": [
    "x=data[['Price','Open','High','Low','Vol.']]\n"
   ]
  },
  {
   "cell_type": "code",
   "execution_count": 50,
   "metadata": {},
   "outputs": [
    {
     "data": {
      "text/html": [
       "<div>\n",
       "<style scoped>\n",
       "    .dataframe tbody tr th:only-of-type {\n",
       "        vertical-align: middle;\n",
       "    }\n",
       "\n",
       "    .dataframe tbody tr th {\n",
       "        vertical-align: top;\n",
       "    }\n",
       "\n",
       "    .dataframe thead th {\n",
       "        text-align: right;\n",
       "    }\n",
       "</style>\n",
       "<table border=\"1\" class=\"dataframe\">\n",
       "  <thead>\n",
       "    <tr style=\"text-align: right;\">\n",
       "      <th></th>\n",
       "      <th>Price</th>\n",
       "      <th>Open</th>\n",
       "      <th>High</th>\n",
       "      <th>Low</th>\n",
       "      <th>Vol.</th>\n",
       "    </tr>\n",
       "  </thead>\n",
       "  <tbody>\n",
       "    <tr>\n",
       "      <th>2</th>\n",
       "      <td>39,429.5</td>\n",
       "      <td>36,716.5</td>\n",
       "      <td>39,429.5</td>\n",
       "      <td>36,716.5</td>\n",
       "      <td>0.28K</td>\n",
       "    </tr>\n",
       "    <tr>\n",
       "      <th>3</th>\n",
       "      <td>36,716.5</td>\n",
       "      <td>33,942.1</td>\n",
       "      <td>36,716.5</td>\n",
       "      <td>33,808.0</td>\n",
       "      <td>0.29K</td>\n",
       "    </tr>\n",
       "    <tr>\n",
       "      <th>4</th>\n",
       "      <td>33,942.1</td>\n",
       "      <td>32,000.0</td>\n",
       "      <td>33,942.1</td>\n",
       "      <td>30,940.8</td>\n",
       "      <td>0.25K</td>\n",
       "    </tr>\n",
       "    <tr>\n",
       "      <th>5</th>\n",
       "      <td>31,977.3</td>\n",
       "      <td>33,015.3</td>\n",
       "      <td>33,225.9</td>\n",
       "      <td>30,246.4</td>\n",
       "      <td>0.35K</td>\n",
       "    </tr>\n",
       "    <tr>\n",
       "      <th>6</th>\n",
       "      <td>33,015.3</td>\n",
       "      <td>32,196.7</td>\n",
       "      <td>34,270.2</td>\n",
       "      <td>32,196.7</td>\n",
       "      <td>0.29K</td>\n",
       "    </tr>\n",
       "    <tr>\n",
       "      <th>...</th>\n",
       "      <td>...</td>\n",
       "      <td>...</td>\n",
       "      <td>...</td>\n",
       "      <td>...</td>\n",
       "      <td>...</td>\n",
       "    </tr>\n",
       "    <tr>\n",
       "      <th>1079</th>\n",
       "      <td>10,998.6</td>\n",
       "      <td>11,255.7</td>\n",
       "      <td>11,579.2</td>\n",
       "      <td>9,823.5</td>\n",
       "      <td>0.06K</td>\n",
       "    </tr>\n",
       "    <tr>\n",
       "      <th>1080</th>\n",
       "      <td>11,255.7</td>\n",
       "      <td>11,240.0</td>\n",
       "      <td>11,750.0</td>\n",
       "      <td>11,000.0</td>\n",
       "      <td>0.05K</td>\n",
       "    </tr>\n",
       "    <tr>\n",
       "      <th>1081</th>\n",
       "      <td>11,240.0</td>\n",
       "      <td>10,818.0</td>\n",
       "      <td>12,114.0</td>\n",
       "      <td>10,509.8</td>\n",
       "      <td>0.06K</td>\n",
       "    </tr>\n",
       "    <tr>\n",
       "      <th>1082</th>\n",
       "      <td>10,799.0</td>\n",
       "      <td>10,695.0</td>\n",
       "      <td>11,928.0</td>\n",
       "      <td>10,000.0</td>\n",
       "      <td>0.06K</td>\n",
       "    </tr>\n",
       "    <tr>\n",
       "      <th>1083</th>\n",
       "      <td>10,695.0</td>\n",
       "      <td>11,357.7</td>\n",
       "      <td>12,830.0</td>\n",
       "      <td>10,113.5</td>\n",
       "      <td>0.06K</td>\n",
       "    </tr>\n",
       "  </tbody>\n",
       "</table>\n",
       "<p>1082 rows × 5 columns</p>\n",
       "</div>"
      ],
      "text/plain": [
       "         Price      Open      High       Low   Vol.\n",
       "2     39,429.5  36,716.5  39,429.5  36,716.5  0.28K\n",
       "3     36,716.5  33,942.1  36,716.5  33,808.0  0.29K\n",
       "4     33,942.1  32,000.0  33,942.1  30,940.8  0.25K\n",
       "5     31,977.3  33,015.3  33,225.9  30,246.4  0.35K\n",
       "6     33,015.3  32,196.7  34,270.2  32,196.7  0.29K\n",
       "...        ...       ...       ...       ...    ...\n",
       "1079  10,998.6  11,255.7  11,579.2   9,823.5  0.06K\n",
       "1080  11,255.7  11,240.0  11,750.0  11,000.0  0.05K\n",
       "1081  11,240.0  10,818.0  12,114.0  10,509.8  0.06K\n",
       "1082  10,799.0  10,695.0  11,928.0  10,000.0  0.06K\n",
       "1083  10,695.0  11,357.7  12,830.0  10,113.5  0.06K\n",
       "\n",
       "[1082 rows x 5 columns]"
      ]
     },
     "execution_count": 50,
     "metadata": {},
     "output_type": "execute_result"
    }
   ],
   "source": [
    "x[2 :]"
   ]
  },
  {
   "cell_type": "code",
   "execution_count": 51,
   "metadata": {},
   "outputs": [
    {
     "ename": "ValueError",
     "evalue": "could not convert string to float: 'Price'",
     "output_type": "error",
     "traceback": [
      "\u001b[1;31m---------------------------------------------------------------------------\u001b[0m",
      "\u001b[1;31mValueError\u001b[0m                                Traceback (most recent call last)",
      "Cell \u001b[1;32mIn[51], line 1\u001b[0m\n\u001b[1;32m----> 1\u001b[0m x\u001b[38;5;241m=\u001b[39mnp\u001b[38;5;241m.\u001b[39masarray([\u001b[38;5;28;43mfloat\u001b[39;49m\u001b[43m(\u001b[49m\u001b[43mz\u001b[49m\u001b[38;5;241;43m.\u001b[39;49m\u001b[43mreplace\u001b[49m\u001b[43m(\u001b[49m\u001b[38;5;124;43m'\u001b[39;49m\u001b[38;5;124;43m,\u001b[39;49m\u001b[38;5;124;43m'\u001b[39;49m\u001b[43m,\u001b[49m\u001b[38;5;124;43m'\u001b[39;49m\u001b[38;5;124;43m'\u001b[39;49m\u001b[43m)\u001b[49m\u001b[43m)\u001b[49m \u001b[38;5;28;01mfor\u001b[39;00m z \u001b[38;5;129;01min\u001b[39;00m x])\n",
      "\u001b[1;31mValueError\u001b[0m: could not convert string to float: 'Price'"
     ]
    }
   ],
   "source": [
    "\n",
    "x=np.asarray([float(z.replace(',','')) for z in x])\n"
   ]
  },
  {
   "cell_type": "code",
   "execution_count": null,
   "metadata": {},
   "outputs": [],
   "source": []
  },
  {
   "cell_type": "code",
   "execution_count": 52,
   "metadata": {},
   "outputs": [],
   "source": [
    "y=data['Change %']"
   ]
  },
  {
   "cell_type": "code",
   "execution_count": 53,
   "metadata": {},
   "outputs": [
    {
     "data": {
      "text/plain": [
       "0    -1.18%\n",
       "1     2.90%\n",
       "2     7.39%\n",
       "3     8.17%\n",
       "4     6.14%\n",
       "Name: Change %, dtype: object"
      ]
     },
     "execution_count": 53,
     "metadata": {},
     "output_type": "execute_result"
    }
   ],
   "source": [
    "y.head()"
   ]
  },
  {
   "cell_type": "code",
   "execution_count": 54,
   "metadata": {},
   "outputs": [],
   "source": [
    "x_train,x_test,y_train,y_test=train_test_split(x,y,test_size=0.3)\n",
    "model=LinearRegression()"
   ]
  },
  {
   "cell_type": "code",
   "execution_count": 20,
   "metadata": {},
   "outputs": [
    {
     "ename": "ValueError",
     "evalue": "could not convert string to float: '3,802.5'",
     "output_type": "error",
     "traceback": [
      "\u001b[1;31m---------------------------------------------------------------------------\u001b[0m",
      "\u001b[1;31mValueError\u001b[0m                                Traceback (most recent call last)",
      "\u001b[1;32m~\\AppData\\Local\\Temp\\ipykernel_9800\\1002171229.py\u001b[0m in \u001b[0;36m?\u001b[1;34m()\u001b[0m\n\u001b[1;32m----> 1\u001b[1;33m \u001b[0mmodel\u001b[0m\u001b[1;33m.\u001b[0m\u001b[0mfit\u001b[0m\u001b[1;33m(\u001b[0m\u001b[0mx_train\u001b[0m\u001b[1;33m,\u001b[0m\u001b[0my_train\u001b[0m\u001b[1;33m)\u001b[0m\u001b[1;33m\u001b[0m\u001b[1;33m\u001b[0m\u001b[0m\n\u001b[0m",
      "\u001b[1;32mc:\\Users\\Rahman\\AppData\\Local\\Programs\\Python\\Python312\\Lib\\site-packages\\sklearn\\base.py\u001b[0m in \u001b[0;36m?\u001b[1;34m(estimator, *args, **kwargs)\u001b[0m\n\u001b[0;32m   1148\u001b[0m                 skip_parameter_validation=(\n\u001b[0;32m   1149\u001b[0m                     \u001b[0mprefer_skip_nested_validation\u001b[0m \u001b[1;32mor\u001b[0m \u001b[0mglobal_skip_validation\u001b[0m\u001b[1;33m\u001b[0m\u001b[1;33m\u001b[0m\u001b[0m\n\u001b[0;32m   1150\u001b[0m                 \u001b[1;33m)\u001b[0m\u001b[1;33m\u001b[0m\u001b[1;33m\u001b[0m\u001b[0m\n\u001b[0;32m   1151\u001b[0m             \u001b[1;33m)\u001b[0m\u001b[1;33m:\u001b[0m\u001b[1;33m\u001b[0m\u001b[1;33m\u001b[0m\u001b[0m\n\u001b[1;32m-> 1152\u001b[1;33m                 \u001b[1;32mreturn\u001b[0m \u001b[0mfit_method\u001b[0m\u001b[1;33m(\u001b[0m\u001b[0mestimator\u001b[0m\u001b[1;33m,\u001b[0m \u001b[1;33m*\u001b[0m\u001b[0margs\u001b[0m\u001b[1;33m,\u001b[0m \u001b[1;33m**\u001b[0m\u001b[0mkwargs\u001b[0m\u001b[1;33m)\u001b[0m\u001b[1;33m\u001b[0m\u001b[1;33m\u001b[0m\u001b[0m\n\u001b[0m",
      "\u001b[1;32mc:\\Users\\Rahman\\AppData\\Local\\Programs\\Python\\Python312\\Lib\\site-packages\\sklearn\\linear_model\\_base.py\u001b[0m in \u001b[0;36m?\u001b[1;34m(self, X, y, sample_weight)\u001b[0m\n\u001b[0;32m    674\u001b[0m         \u001b[0mn_jobs_\u001b[0m \u001b[1;33m=\u001b[0m \u001b[0mself\u001b[0m\u001b[1;33m.\u001b[0m\u001b[0mn_jobs\u001b[0m\u001b[1;33m\u001b[0m\u001b[1;33m\u001b[0m\u001b[0m\n\u001b[0;32m    675\u001b[0m \u001b[1;33m\u001b[0m\u001b[0m\n\u001b[0;32m    676\u001b[0m         \u001b[0maccept_sparse\u001b[0m \u001b[1;33m=\u001b[0m \u001b[1;32mFalse\u001b[0m \u001b[1;32mif\u001b[0m \u001b[0mself\u001b[0m\u001b[1;33m.\u001b[0m\u001b[0mpositive\u001b[0m \u001b[1;32melse\u001b[0m \u001b[1;33m[\u001b[0m\u001b[1;34m\"csr\"\u001b[0m\u001b[1;33m,\u001b[0m \u001b[1;34m\"csc\"\u001b[0m\u001b[1;33m,\u001b[0m \u001b[1;34m\"coo\"\u001b[0m\u001b[1;33m]\u001b[0m\u001b[1;33m\u001b[0m\u001b[1;33m\u001b[0m\u001b[0m\n\u001b[0;32m    677\u001b[0m \u001b[1;33m\u001b[0m\u001b[0m\n\u001b[1;32m--> 678\u001b[1;33m         X, y = self._validate_data(\n\u001b[0m\u001b[0;32m    679\u001b[0m             \u001b[0mX\u001b[0m\u001b[1;33m,\u001b[0m \u001b[0my\u001b[0m\u001b[1;33m,\u001b[0m \u001b[0maccept_sparse\u001b[0m\u001b[1;33m=\u001b[0m\u001b[0maccept_sparse\u001b[0m\u001b[1;33m,\u001b[0m \u001b[0my_numeric\u001b[0m\u001b[1;33m=\u001b[0m\u001b[1;32mTrue\u001b[0m\u001b[1;33m,\u001b[0m \u001b[0mmulti_output\u001b[0m\u001b[1;33m=\u001b[0m\u001b[1;32mTrue\u001b[0m\u001b[1;33m\u001b[0m\u001b[1;33m\u001b[0m\u001b[0m\n\u001b[0;32m    680\u001b[0m         \u001b[1;33m)\u001b[0m\u001b[1;33m\u001b[0m\u001b[1;33m\u001b[0m\u001b[0m\n\u001b[0;32m    681\u001b[0m \u001b[1;33m\u001b[0m\u001b[0m\n",
      "\u001b[1;32mc:\\Users\\Rahman\\AppData\\Local\\Programs\\Python\\Python312\\Lib\\site-packages\\sklearn\\base.py\u001b[0m in \u001b[0;36m?\u001b[1;34m(self, X, y, reset, validate_separately, cast_to_ndarray, **check_params)\u001b[0m\n\u001b[0;32m    618\u001b[0m                 \u001b[1;32mif\u001b[0m \u001b[1;34m\"estimator\"\u001b[0m \u001b[1;32mnot\u001b[0m \u001b[1;32min\u001b[0m \u001b[0mcheck_y_params\u001b[0m\u001b[1;33m:\u001b[0m\u001b[1;33m\u001b[0m\u001b[1;33m\u001b[0m\u001b[0m\n\u001b[0;32m    619\u001b[0m                     \u001b[0mcheck_y_params\u001b[0m \u001b[1;33m=\u001b[0m \u001b[1;33m{\u001b[0m\u001b[1;33m**\u001b[0m\u001b[0mdefault_check_params\u001b[0m\u001b[1;33m,\u001b[0m \u001b[1;33m**\u001b[0m\u001b[0mcheck_y_params\u001b[0m\u001b[1;33m}\u001b[0m\u001b[1;33m\u001b[0m\u001b[1;33m\u001b[0m\u001b[0m\n\u001b[0;32m    620\u001b[0m                 \u001b[0my\u001b[0m \u001b[1;33m=\u001b[0m \u001b[0mcheck_array\u001b[0m\u001b[1;33m(\u001b[0m\u001b[0my\u001b[0m\u001b[1;33m,\u001b[0m \u001b[0minput_name\u001b[0m\u001b[1;33m=\u001b[0m\u001b[1;34m\"y\"\u001b[0m\u001b[1;33m,\u001b[0m \u001b[1;33m**\u001b[0m\u001b[0mcheck_y_params\u001b[0m\u001b[1;33m)\u001b[0m\u001b[1;33m\u001b[0m\u001b[1;33m\u001b[0m\u001b[0m\n\u001b[0;32m    621\u001b[0m             \u001b[1;32melse\u001b[0m\u001b[1;33m:\u001b[0m\u001b[1;33m\u001b[0m\u001b[1;33m\u001b[0m\u001b[0m\n\u001b[1;32m--> 622\u001b[1;33m                 \u001b[0mX\u001b[0m\u001b[1;33m,\u001b[0m \u001b[0my\u001b[0m \u001b[1;33m=\u001b[0m \u001b[0mcheck_X_y\u001b[0m\u001b[1;33m(\u001b[0m\u001b[0mX\u001b[0m\u001b[1;33m,\u001b[0m \u001b[0my\u001b[0m\u001b[1;33m,\u001b[0m \u001b[1;33m**\u001b[0m\u001b[0mcheck_params\u001b[0m\u001b[1;33m)\u001b[0m\u001b[1;33m\u001b[0m\u001b[1;33m\u001b[0m\u001b[0m\n\u001b[0m\u001b[0;32m    623\u001b[0m             \u001b[0mout\u001b[0m \u001b[1;33m=\u001b[0m \u001b[0mX\u001b[0m\u001b[1;33m,\u001b[0m \u001b[0my\u001b[0m\u001b[1;33m\u001b[0m\u001b[1;33m\u001b[0m\u001b[0m\n\u001b[0;32m    624\u001b[0m \u001b[1;33m\u001b[0m\u001b[0m\n\u001b[0;32m    625\u001b[0m         \u001b[1;32mif\u001b[0m \u001b[1;32mnot\u001b[0m \u001b[0mno_val_X\u001b[0m \u001b[1;32mand\u001b[0m \u001b[0mcheck_params\u001b[0m\u001b[1;33m.\u001b[0m\u001b[0mget\u001b[0m\u001b[1;33m(\u001b[0m\u001b[1;34m\"ensure_2d\"\u001b[0m\u001b[1;33m,\u001b[0m \u001b[1;32mTrue\u001b[0m\u001b[1;33m)\u001b[0m\u001b[1;33m:\u001b[0m\u001b[1;33m\u001b[0m\u001b[1;33m\u001b[0m\u001b[0m\n",
      "\u001b[1;32mc:\\Users\\Rahman\\AppData\\Local\\Programs\\Python\\Python312\\Lib\\site-packages\\sklearn\\utils\\validation.py\u001b[0m in \u001b[0;36m?\u001b[1;34m(X, y, accept_sparse, accept_large_sparse, dtype, order, copy, force_all_finite, ensure_2d, allow_nd, multi_output, ensure_min_samples, ensure_min_features, y_numeric, estimator)\u001b[0m\n\u001b[0;32m   1142\u001b[0m         raise ValueError(\n\u001b[0;32m   1143\u001b[0m             \u001b[1;33mf\"\u001b[0m\u001b[1;33m{\u001b[0m\u001b[0mestimator_name\u001b[0m\u001b[1;33m}\u001b[0m\u001b[1;33m requires y to be passed, but the target y is None\u001b[0m\u001b[1;33m\"\u001b[0m\u001b[1;33m\u001b[0m\u001b[1;33m\u001b[0m\u001b[0m\n\u001b[0;32m   1144\u001b[0m         \u001b[1;33m)\u001b[0m\u001b[1;33m\u001b[0m\u001b[1;33m\u001b[0m\u001b[0m\n\u001b[0;32m   1145\u001b[0m \u001b[1;33m\u001b[0m\u001b[0m\n\u001b[1;32m-> 1146\u001b[1;33m     X = check_array(\n\u001b[0m\u001b[0;32m   1147\u001b[0m         \u001b[0mX\u001b[0m\u001b[1;33m,\u001b[0m\u001b[1;33m\u001b[0m\u001b[1;33m\u001b[0m\u001b[0m\n\u001b[0;32m   1148\u001b[0m         \u001b[0maccept_sparse\u001b[0m\u001b[1;33m=\u001b[0m\u001b[0maccept_sparse\u001b[0m\u001b[1;33m,\u001b[0m\u001b[1;33m\u001b[0m\u001b[1;33m\u001b[0m\u001b[0m\n\u001b[0;32m   1149\u001b[0m         \u001b[0maccept_large_sparse\u001b[0m\u001b[1;33m=\u001b[0m\u001b[0maccept_large_sparse\u001b[0m\u001b[1;33m,\u001b[0m\u001b[1;33m\u001b[0m\u001b[1;33m\u001b[0m\u001b[0m\n",
      "\u001b[1;32mc:\\Users\\Rahman\\AppData\\Local\\Programs\\Python\\Python312\\Lib\\site-packages\\sklearn\\utils\\validation.py\u001b[0m in \u001b[0;36m?\u001b[1;34m(array, accept_sparse, accept_large_sparse, dtype, order, copy, force_all_finite, ensure_2d, allow_nd, ensure_min_samples, ensure_min_features, estimator, input_name)\u001b[0m\n\u001b[0;32m    912\u001b[0m                         \u001b[1;33m)\u001b[0m\u001b[1;33m\u001b[0m\u001b[1;33m\u001b[0m\u001b[0m\n\u001b[0;32m    913\u001b[0m                     \u001b[0marray\u001b[0m \u001b[1;33m=\u001b[0m \u001b[0mxp\u001b[0m\u001b[1;33m.\u001b[0m\u001b[0mastype\u001b[0m\u001b[1;33m(\u001b[0m\u001b[0marray\u001b[0m\u001b[1;33m,\u001b[0m \u001b[0mdtype\u001b[0m\u001b[1;33m,\u001b[0m \u001b[0mcopy\u001b[0m\u001b[1;33m=\u001b[0m\u001b[1;32mFalse\u001b[0m\u001b[1;33m)\u001b[0m\u001b[1;33m\u001b[0m\u001b[1;33m\u001b[0m\u001b[0m\n\u001b[0;32m    914\u001b[0m                 \u001b[1;32melse\u001b[0m\u001b[1;33m:\u001b[0m\u001b[1;33m\u001b[0m\u001b[1;33m\u001b[0m\u001b[0m\n\u001b[0;32m    915\u001b[0m                     \u001b[0marray\u001b[0m \u001b[1;33m=\u001b[0m \u001b[0m_asarray_with_order\u001b[0m\u001b[1;33m(\u001b[0m\u001b[0marray\u001b[0m\u001b[1;33m,\u001b[0m \u001b[0morder\u001b[0m\u001b[1;33m=\u001b[0m\u001b[0morder\u001b[0m\u001b[1;33m,\u001b[0m \u001b[0mdtype\u001b[0m\u001b[1;33m=\u001b[0m\u001b[0mdtype\u001b[0m\u001b[1;33m,\u001b[0m \u001b[0mxp\u001b[0m\u001b[1;33m=\u001b[0m\u001b[0mxp\u001b[0m\u001b[1;33m)\u001b[0m\u001b[1;33m\u001b[0m\u001b[1;33m\u001b[0m\u001b[0m\n\u001b[1;32m--> 916\u001b[1;33m             \u001b[1;32mexcept\u001b[0m \u001b[0mComplexWarning\u001b[0m \u001b[1;32mas\u001b[0m \u001b[0mcomplex_warning\u001b[0m\u001b[1;33m:\u001b[0m\u001b[1;33m\u001b[0m\u001b[1;33m\u001b[0m\u001b[0m\n\u001b[0m\u001b[0;32m    917\u001b[0m                 raise ValueError(\n\u001b[0;32m    918\u001b[0m                     \u001b[1;34m\"Complex data not supported\\n{}\\n\"\u001b[0m\u001b[1;33m.\u001b[0m\u001b[0mformat\u001b[0m\u001b[1;33m(\u001b[0m\u001b[0marray\u001b[0m\u001b[1;33m)\u001b[0m\u001b[1;33m\u001b[0m\u001b[1;33m\u001b[0m\u001b[0m\n\u001b[0;32m    919\u001b[0m                 \u001b[1;33m)\u001b[0m \u001b[1;32mfrom\u001b[0m \u001b[0mcomplex_warning\u001b[0m\u001b[1;33m\u001b[0m\u001b[1;33m\u001b[0m\u001b[0m\n",
      "\u001b[1;32mc:\\Users\\Rahman\\AppData\\Local\\Programs\\Python\\Python312\\Lib\\site-packages\\sklearn\\utils\\_array_api.py\u001b[0m in \u001b[0;36m?\u001b[1;34m(array, dtype, order, copy, xp)\u001b[0m\n\u001b[0;32m    376\u001b[0m         \u001b[1;31m# Use NumPy API to support order\u001b[0m\u001b[1;33m\u001b[0m\u001b[1;33m\u001b[0m\u001b[0m\n\u001b[0;32m    377\u001b[0m         \u001b[1;32mif\u001b[0m \u001b[0mcopy\u001b[0m \u001b[1;32mis\u001b[0m \u001b[1;32mTrue\u001b[0m\u001b[1;33m:\u001b[0m\u001b[1;33m\u001b[0m\u001b[1;33m\u001b[0m\u001b[0m\n\u001b[0;32m    378\u001b[0m             \u001b[0marray\u001b[0m \u001b[1;33m=\u001b[0m \u001b[0mnumpy\u001b[0m\u001b[1;33m.\u001b[0m\u001b[0marray\u001b[0m\u001b[1;33m(\u001b[0m\u001b[0marray\u001b[0m\u001b[1;33m,\u001b[0m \u001b[0morder\u001b[0m\u001b[1;33m=\u001b[0m\u001b[0morder\u001b[0m\u001b[1;33m,\u001b[0m \u001b[0mdtype\u001b[0m\u001b[1;33m=\u001b[0m\u001b[0mdtype\u001b[0m\u001b[1;33m)\u001b[0m\u001b[1;33m\u001b[0m\u001b[1;33m\u001b[0m\u001b[0m\n\u001b[0;32m    379\u001b[0m         \u001b[1;32melse\u001b[0m\u001b[1;33m:\u001b[0m\u001b[1;33m\u001b[0m\u001b[1;33m\u001b[0m\u001b[0m\n\u001b[1;32m--> 380\u001b[1;33m             \u001b[0marray\u001b[0m \u001b[1;33m=\u001b[0m \u001b[0mnumpy\u001b[0m\u001b[1;33m.\u001b[0m\u001b[0masarray\u001b[0m\u001b[1;33m(\u001b[0m\u001b[0marray\u001b[0m\u001b[1;33m,\u001b[0m \u001b[0morder\u001b[0m\u001b[1;33m=\u001b[0m\u001b[0morder\u001b[0m\u001b[1;33m,\u001b[0m \u001b[0mdtype\u001b[0m\u001b[1;33m=\u001b[0m\u001b[0mdtype\u001b[0m\u001b[1;33m)\u001b[0m\u001b[1;33m\u001b[0m\u001b[1;33m\u001b[0m\u001b[0m\n\u001b[0m\u001b[0;32m    381\u001b[0m \u001b[1;33m\u001b[0m\u001b[0m\n\u001b[0;32m    382\u001b[0m         \u001b[1;31m# At this point array is a NumPy ndarray. We convert it to an array\u001b[0m\u001b[1;33m\u001b[0m\u001b[1;33m\u001b[0m\u001b[0m\n\u001b[0;32m    383\u001b[0m         \u001b[1;31m# container that is consistent with the input's namespace.\u001b[0m\u001b[1;33m\u001b[0m\u001b[1;33m\u001b[0m\u001b[0m\n",
      "\u001b[1;32mc:\\Users\\Rahman\\AppData\\Local\\Programs\\Python\\Python312\\Lib\\site-packages\\pandas\\core\\generic.py\u001b[0m in \u001b[0;36m?\u001b[1;34m(self, dtype)\u001b[0m\n\u001b[0;32m   2082\u001b[0m     \u001b[1;32mdef\u001b[0m \u001b[0m__array__\u001b[0m\u001b[1;33m(\u001b[0m\u001b[0mself\u001b[0m\u001b[1;33m,\u001b[0m \u001b[0mdtype\u001b[0m\u001b[1;33m:\u001b[0m \u001b[0mnpt\u001b[0m\u001b[1;33m.\u001b[0m\u001b[0mDTypeLike\u001b[0m \u001b[1;33m|\u001b[0m \u001b[1;32mNone\u001b[0m \u001b[1;33m=\u001b[0m \u001b[1;32mNone\u001b[0m\u001b[1;33m)\u001b[0m \u001b[1;33m->\u001b[0m \u001b[0mnp\u001b[0m\u001b[1;33m.\u001b[0m\u001b[0mndarray\u001b[0m\u001b[1;33m:\u001b[0m\u001b[1;33m\u001b[0m\u001b[1;33m\u001b[0m\u001b[0m\n\u001b[0;32m   2083\u001b[0m         \u001b[0mvalues\u001b[0m \u001b[1;33m=\u001b[0m \u001b[0mself\u001b[0m\u001b[1;33m.\u001b[0m\u001b[0m_values\u001b[0m\u001b[1;33m\u001b[0m\u001b[1;33m\u001b[0m\u001b[0m\n\u001b[1;32m-> 2084\u001b[1;33m         \u001b[0marr\u001b[0m \u001b[1;33m=\u001b[0m \u001b[0mnp\u001b[0m\u001b[1;33m.\u001b[0m\u001b[0masarray\u001b[0m\u001b[1;33m(\u001b[0m\u001b[0mvalues\u001b[0m\u001b[1;33m,\u001b[0m \u001b[0mdtype\u001b[0m\u001b[1;33m=\u001b[0m\u001b[0mdtype\u001b[0m\u001b[1;33m)\u001b[0m\u001b[1;33m\u001b[0m\u001b[1;33m\u001b[0m\u001b[0m\n\u001b[0m\u001b[0;32m   2085\u001b[0m         if (\n\u001b[0;32m   2086\u001b[0m             \u001b[0mastype_is_view\u001b[0m\u001b[1;33m(\u001b[0m\u001b[0mvalues\u001b[0m\u001b[1;33m.\u001b[0m\u001b[0mdtype\u001b[0m\u001b[1;33m,\u001b[0m \u001b[0marr\u001b[0m\u001b[1;33m.\u001b[0m\u001b[0mdtype\u001b[0m\u001b[1;33m)\u001b[0m\u001b[1;33m\u001b[0m\u001b[1;33m\u001b[0m\u001b[0m\n\u001b[0;32m   2087\u001b[0m             \u001b[1;32mand\u001b[0m \u001b[0musing_copy_on_write\u001b[0m\u001b[1;33m(\u001b[0m\u001b[1;33m)\u001b[0m\u001b[1;33m\u001b[0m\u001b[1;33m\u001b[0m\u001b[0m\n",
      "\u001b[1;31mValueError\u001b[0m: could not convert string to float: '3,802.5'"
     ]
    }
   ],
   "source": [
    "model.fit(x_train,y_train)"
   ]
  },
  {
   "cell_type": "code",
   "execution_count": null,
   "metadata": {},
   "outputs": [],
   "source": []
  }
 ],
 "metadata": {
  "kernelspec": {
   "display_name": "Python 3",
   "language": "python",
   "name": "python3"
  },
  "language_info": {
   "codemirror_mode": {
    "name": "ipython",
    "version": 3
   },
   "file_extension": ".py",
   "mimetype": "text/x-python",
   "name": "python",
   "nbconvert_exporter": "python",
   "pygments_lexer": "ipython3",
   "version": "3.12.1"
  }
 },
 "nbformat": 4,
 "nbformat_minor": 2
}
