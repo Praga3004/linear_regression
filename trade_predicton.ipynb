{
 "cells": [
  {
   "cell_type": "code",
   "execution_count": 3,
   "metadata": {},
   "outputs": [
    {
     "name": "stdout",
     "output_type": "stream",
     "text": [
      "Requirement already satisfied: matplotlib in c:\\users\\rahman\\appdata\\local\\programs\\python\\python312\\lib\\site-packages (3.8.2)\n",
      "Requirement already satisfied: contourpy>=1.0.1 in c:\\users\\rahman\\appdata\\local\\programs\\python\\python312\\lib\\site-packages (from matplotlib) (1.2.0)\n",
      "Requirement already satisfied: cycler>=0.10 in c:\\users\\rahman\\appdata\\local\\programs\\python\\python312\\lib\\site-packages (from matplotlib) (0.12.1)\n",
      "Requirement already satisfied: fonttools>=4.22.0 in c:\\users\\rahman\\appdata\\local\\programs\\python\\python312\\lib\\site-packages (from matplotlib) (4.47.0)\n",
      "Requirement already satisfied: kiwisolver>=1.3.1 in c:\\users\\rahman\\appdata\\local\\programs\\python\\python312\\lib\\site-packages (from matplotlib) (1.4.5)\n",
      "Requirement already satisfied: numpy<2,>=1.21 in c:\\users\\rahman\\appdata\\local\\programs\\python\\python312\\lib\\site-packages (from matplotlib) (1.26.2)\n",
      "Requirement already satisfied: packaging>=20.0 in c:\\users\\rahman\\appdata\\roaming\\python\\python312\\site-packages (from matplotlib) (23.2)\n",
      "Requirement already satisfied: pillow>=8 in c:\\users\\rahman\\appdata\\local\\programs\\python\\python312\\lib\\site-packages (from matplotlib) (10.2.0)\n",
      "Requirement already satisfied: pyparsing>=2.3.1 in c:\\users\\rahman\\appdata\\local\\programs\\python\\python312\\lib\\site-packages (from matplotlib) (3.1.1)\n",
      "Requirement already satisfied: python-dateutil>=2.7 in c:\\users\\rahman\\appdata\\roaming\\python\\python312\\site-packages (from matplotlib) (2.8.2)\n",
      "Requirement already satisfied: six>=1.5 in c:\\users\\rahman\\appdata\\roaming\\python\\python312\\site-packages (from python-dateutil>=2.7->matplotlib) (1.16.0)\n",
      "Note: you may need to restart the kernel to use updated packages.\n"
     ]
    },
    {
     "name": "stderr",
     "output_type": "stream",
     "text": [
      "\n",
      "[notice] A new release of pip is available: 23.3.1 -> 23.3.2\n",
      "[notice] To update, run: python.exe -m pip install --upgrade pip\n"
     ]
    },
    {
     "name": "stdout",
     "output_type": "stream",
     "text": [
      "Requirement already satisfied: seaborn in c:\\users\\rahman\\appdata\\local\\programs\\python\\python312\\lib\\site-packages (0.13.1)\n",
      "Requirement already satisfied: numpy!=1.24.0,>=1.20 in c:\\users\\rahman\\appdata\\local\\programs\\python\\python312\\lib\\site-packages (from seaborn) (1.26.2)\n",
      "Requirement already satisfied: pandas>=1.2 in c:\\users\\rahman\\appdata\\local\\programs\\python\\python312\\lib\\site-packages (from seaborn) (2.1.4)\n",
      "Requirement already satisfied: matplotlib!=3.6.1,>=3.4 in c:\\users\\rahman\\appdata\\local\\programs\\python\\python312\\lib\\site-packages (from seaborn) (3.8.2)\n",
      "Requirement already satisfied: contourpy>=1.0.1 in c:\\users\\rahman\\appdata\\local\\programs\\python\\python312\\lib\\site-packages (from matplotlib!=3.6.1,>=3.4->seaborn) (1.2.0)\n",
      "Requirement already satisfied: cycler>=0.10 in c:\\users\\rahman\\appdata\\local\\programs\\python\\python312\\lib\\site-packages (from matplotlib!=3.6.1,>=3.4->seaborn) (0.12.1)\n",
      "Requirement already satisfied: fonttools>=4.22.0 in c:\\users\\rahman\\appdata\\local\\programs\\python\\python312\\lib\\site-packages (from matplotlib!=3.6.1,>=3.4->seaborn) (4.47.0)\n",
      "Requirement already satisfied: kiwisolver>=1.3.1 in c:\\users\\rahman\\appdata\\local\\programs\\python\\python312\\lib\\site-packages (from matplotlib!=3.6.1,>=3.4->seaborn) (1.4.5)\n",
      "Requirement already satisfied: packaging>=20.0 in c:\\users\\rahman\\appdata\\roaming\\python\\python312\\site-packages (from matplotlib!=3.6.1,>=3.4->seaborn) (23.2)\n",
      "Requirement already satisfied: pillow>=8 in c:\\users\\rahman\\appdata\\local\\programs\\python\\python312\\lib\\site-packages (from matplotlib!=3.6.1,>=3.4->seaborn) (10.2.0)\n",
      "Requirement already satisfied: pyparsing>=2.3.1 in c:\\users\\rahman\\appdata\\local\\programs\\python\\python312\\lib\\site-packages (from matplotlib!=3.6.1,>=3.4->seaborn) (3.1.1)\n",
      "Requirement already satisfied: python-dateutil>=2.7 in c:\\users\\rahman\\appdata\\roaming\\python\\python312\\site-packages (from matplotlib!=3.6.1,>=3.4->seaborn) (2.8.2)\n",
      "Requirement already satisfied: pytz>=2020.1 in c:\\users\\rahman\\appdata\\local\\programs\\python\\python312\\lib\\site-packages (from pandas>=1.2->seaborn) (2023.3.post1)\n",
      "Requirement already satisfied: tzdata>=2022.1 in c:\\users\\rahman\\appdata\\local\\programs\\python\\python312\\lib\\site-packages (from pandas>=1.2->seaborn) (2023.4)\n",
      "Requirement already satisfied: six>=1.5 in c:\\users\\rahman\\appdata\\roaming\\python\\python312\\site-packages (from python-dateutil>=2.7->matplotlib!=3.6.1,>=3.4->seaborn) (1.16.0)\n",
      "Note: you may need to restart the kernel to use updated packages.\n"
     ]
    },
    {
     "name": "stderr",
     "output_type": "stream",
     "text": [
      "\n",
      "[notice] A new release of pip is available: 23.3.1 -> 23.3.2\n",
      "[notice] To update, run: python.exe -m pip install --upgrade pip\n"
     ]
    },
    {
     "name": "stdout",
     "output_type": "stream",
     "text": [
      "Note: you may need to restart the kernel to use updated packages.Requirement already satisfied: pandas in c:\\users\\rahman\\appdata\\local\\programs\\python\\python312\\lib\\site-packages (2.1.4)\n",
      "Requirement already satisfied: numpy<2,>=1.26.0 in c:\\users\\rahman\\appdata\\local\\programs\\python\\python312\\lib\\site-packages (from pandas) (1.26.2)\n",
      "Requirement already satisfied: python-dateutil>=2.8.2 in c:\\users\\rahman\\appdata\\roaming\\python\\python312\\site-packages (from pandas) (2.8.2)\n",
      "Requirement already satisfied: pytz>=2020.1 in c:\\users\\rahman\\appdata\\local\\programs\\python\\python312\\lib\\site-packages (from pandas) (2023.3.post1)\n",
      "Requirement already satisfied: tzdata>=2022.1 in c:\\users\\rahman\\appdata\\local\\programs\\python\\python312\\lib\\site-packages (from pandas) (2023.4)\n",
      "Requirement already satisfied: six>=1.5 in c:\\users\\rahman\\appdata\\roaming\\python\\python312\\site-packages (from python-dateutil>=2.8.2->pandas) (1.16.0)\n",
      "\n"
     ]
    },
    {
     "name": "stderr",
     "output_type": "stream",
     "text": [
      "\n",
      "[notice] A new release of pip is available: 23.3.1 -> 23.3.2\n",
      "[notice] To update, run: python.exe -m pip install --upgrade pip\n"
     ]
    },
    {
     "name": "stdout",
     "output_type": "stream",
     "text": [
      "Collecting scikit-learn\n",
      "  Downloading scikit_learn-1.3.2-cp312-cp312-win_amd64.whl.metadata (11 kB)\n",
      "Requirement already satisfied: numpy<2.0,>=1.17.3 in c:\\users\\rahman\\appdata\\local\\programs\\python\\python312\\lib\\site-packages (from scikit-learn) (1.26.2)\n",
      "Requirement already satisfied: scipy>=1.5.0 in c:\\users\\rahman\\appdata\\local\\programs\\python\\python312\\lib\\site-packages (from scikit-learn) (1.11.4)\n",
      "Collecting joblib>=1.1.1 (from scikit-learn)\n",
      "  Downloading joblib-1.3.2-py3-none-any.whl.metadata (5.4 kB)\n",
      "Collecting threadpoolctl>=2.0.0 (from scikit-learn)\n",
      "  Downloading threadpoolctl-3.2.0-py3-none-any.whl.metadata (10.0 kB)\n",
      "Downloading scikit_learn-1.3.2-cp312-cp312-win_amd64.whl (9.1 MB)\n",
      "   ---------------------------------------- 0.0/9.1 MB ? eta -:--:--\n",
      "   ---------------------------------------- 0.0/9.1 MB ? eta -:--:--\n",
      "   ---------------------------------------- 0.0/9.1 MB 1.4 MB/s eta 0:00:07\n",
      "   ---------------------------------------- 0.1/9.1 MB 1.7 MB/s eta 0:00:06\n",
      "   - -------------------------------------- 0.2/9.1 MB 1.9 MB/s eta 0:00:05\n",
      "   - -------------------------------------- 0.4/9.1 MB 2.0 MB/s eta 0:00:05\n",
      "   - -------------------------------------- 0.5/9.1 MB 2.2 MB/s eta 0:00:05\n",
      "   -- ------------------------------------- 0.6/9.1 MB 2.4 MB/s eta 0:00:04\n",
      "   --- ------------------------------------ 0.8/9.1 MB 2.4 MB/s eta 0:00:04\n",
      "   --- ------------------------------------ 0.9/9.1 MB 2.5 MB/s eta 0:00:04\n",
      "   ---- ----------------------------------- 1.0/9.1 MB 2.6 MB/s eta 0:00:04\n",
      "   ----- ---------------------------------- 1.2/9.1 MB 2.5 MB/s eta 0:00:04\n",
      "   ----- ---------------------------------- 1.3/9.1 MB 2.6 MB/s eta 0:00:04\n",
      "   ------ --------------------------------- 1.4/9.1 MB 2.5 MB/s eta 0:00:04\n",
      "   ------ --------------------------------- 1.5/9.1 MB 2.6 MB/s eta 0:00:03\n",
      "   ------- -------------------------------- 1.6/9.1 MB 2.5 MB/s eta 0:00:03\n",
      "   ------- -------------------------------- 1.8/9.1 MB 2.6 MB/s eta 0:00:03\n",
      "   -------- ------------------------------- 1.9/9.1 MB 2.6 MB/s eta 0:00:03\n",
      "   --------- ------------------------------ 2.1/9.1 MB 2.6 MB/s eta 0:00:03\n",
      "   --------- ------------------------------ 2.2/9.1 MB 2.6 MB/s eta 0:00:03\n",
      "   ---------- ----------------------------- 2.3/9.1 MB 2.6 MB/s eta 0:00:03\n",
      "   ---------- ----------------------------- 2.4/9.1 MB 2.6 MB/s eta 0:00:03\n",
      "   ----------- ---------------------------- 2.5/9.1 MB 2.6 MB/s eta 0:00:03\n",
      "   ----------- ---------------------------- 2.6/9.1 MB 2.7 MB/s eta 0:00:03\n",
      "   ------------ --------------------------- 2.8/9.1 MB 2.7 MB/s eta 0:00:03\n",
      "   ------------ --------------------------- 2.9/9.1 MB 2.6 MB/s eta 0:00:03\n",
      "   ------------- -------------------------- 3.0/9.1 MB 2.6 MB/s eta 0:00:03\n",
      "   ------------- -------------------------- 3.1/9.1 MB 2.6 MB/s eta 0:00:03\n",
      "   -------------- ------------------------- 3.2/9.1 MB 2.6 MB/s eta 0:00:03\n",
      "   -------------- ------------------------- 3.3/9.1 MB 2.6 MB/s eta 0:00:03\n",
      "   --------------- ------------------------ 3.4/9.1 MB 2.6 MB/s eta 0:00:03\n",
      "   --------------- ------------------------ 3.5/9.1 MB 2.6 MB/s eta 0:00:03\n",
      "   --------------- ------------------------ 3.6/9.1 MB 2.6 MB/s eta 0:00:03\n",
      "   ---------------- ----------------------- 3.7/9.1 MB 2.5 MB/s eta 0:00:03\n",
      "   ---------------- ----------------------- 3.8/9.1 MB 2.6 MB/s eta 0:00:03\n",
      "   ----------------- ---------------------- 4.0/9.1 MB 2.5 MB/s eta 0:00:03\n",
      "   ----------------- ---------------------- 4.1/9.1 MB 2.5 MB/s eta 0:00:03\n",
      "   ------------------ --------------------- 4.1/9.1 MB 2.5 MB/s eta 0:00:03\n",
      "   ------------------ --------------------- 4.2/9.1 MB 2.5 MB/s eta 0:00:02\n",
      "   ------------------ --------------------- 4.3/9.1 MB 2.4 MB/s eta 0:00:02\n",
      "   ------------------- -------------------- 4.4/9.1 MB 2.4 MB/s eta 0:00:02\n",
      "   ------------------- -------------------- 4.4/9.1 MB 2.4 MB/s eta 0:00:02\n",
      "   ------------------- -------------------- 4.5/9.1 MB 2.4 MB/s eta 0:00:02\n",
      "   ------------------- -------------------- 4.5/9.1 MB 2.3 MB/s eta 0:00:02\n",
      "   -------------------- ------------------- 4.6/9.1 MB 2.3 MB/s eta 0:00:02\n",
      "   -------------------- ------------------- 4.7/9.1 MB 2.3 MB/s eta 0:00:02\n",
      "   -------------------- ------------------- 4.7/9.1 MB 2.3 MB/s eta 0:00:02\n",
      "   -------------------- ------------------- 4.8/9.1 MB 2.3 MB/s eta 0:00:02\n",
      "   --------------------- ------------------ 4.8/9.1 MB 2.2 MB/s eta 0:00:02\n",
      "   --------------------- ------------------ 4.9/9.1 MB 2.2 MB/s eta 0:00:02\n",
      "   --------------------- ------------------ 4.9/9.1 MB 2.2 MB/s eta 0:00:02\n",
      "   --------------------- ------------------ 5.0/9.1 MB 2.2 MB/s eta 0:00:02\n",
      "   ---------------------- ----------------- 5.0/9.1 MB 2.1 MB/s eta 0:00:02\n",
      "   ---------------------- ----------------- 5.1/9.1 MB 2.1 MB/s eta 0:00:02\n",
      "   ---------------------- ----------------- 5.1/9.1 MB 2.1 MB/s eta 0:00:02\n",
      "   ---------------------- ----------------- 5.2/9.1 MB 2.1 MB/s eta 0:00:02\n",
      "   ----------------------- ---------------- 5.3/9.1 MB 2.1 MB/s eta 0:00:02\n",
      "   ----------------------- ---------------- 5.3/9.1 MB 2.1 MB/s eta 0:00:02\n",
      "   ----------------------- ---------------- 5.4/9.1 MB 2.0 MB/s eta 0:00:02\n",
      "   ----------------------- ---------------- 5.4/9.1 MB 2.0 MB/s eta 0:00:02\n",
      "   ------------------------ --------------- 5.5/9.1 MB 2.0 MB/s eta 0:00:02\n",
      "   ------------------------ --------------- 5.5/9.1 MB 2.0 MB/s eta 0:00:02\n",
      "   ------------------------ --------------- 5.6/9.1 MB 2.0 MB/s eta 0:00:02\n",
      "   ------------------------ --------------- 5.7/9.1 MB 2.0 MB/s eta 0:00:02\n",
      "   ------------------------- -------------- 5.7/9.1 MB 2.0 MB/s eta 0:00:02\n",
      "   ------------------------- -------------- 5.7/9.1 MB 1.9 MB/s eta 0:00:02\n",
      "   ------------------------- -------------- 5.8/9.1 MB 1.9 MB/s eta 0:00:02\n",
      "   ------------------------- -------------- 5.8/9.1 MB 1.9 MB/s eta 0:00:02\n",
      "   ------------------------- -------------- 5.9/9.1 MB 1.9 MB/s eta 0:00:02\n",
      "   ------------------------- -------------- 5.9/9.1 MB 1.9 MB/s eta 0:00:02\n",
      "   -------------------------- ------------- 5.9/9.1 MB 1.9 MB/s eta 0:00:02\n",
      "   -------------------------- ------------- 6.0/9.1 MB 1.8 MB/s eta 0:00:02\n",
      "   -------------------------- ------------- 6.0/9.1 MB 1.8 MB/s eta 0:00:02\n",
      "   -------------------------- ------------- 6.1/9.1 MB 1.8 MB/s eta 0:00:02\n",
      "   -------------------------- ------------- 6.1/9.1 MB 1.8 MB/s eta 0:00:02\n",
      "   -------------------------- ------------- 6.1/9.1 MB 1.8 MB/s eta 0:00:02\n",
      "   --------------------------- ------------ 6.2/9.1 MB 1.8 MB/s eta 0:00:02\n",
      "   --------------------------- ------------ 6.2/9.1 MB 1.8 MB/s eta 0:00:02\n",
      "   --------------------------- ------------ 6.3/9.1 MB 1.7 MB/s eta 0:00:02\n",
      "   --------------------------- ------------ 6.3/9.1 MB 1.7 MB/s eta 0:00:02\n",
      "   --------------------------- ------------ 6.4/9.1 MB 1.7 MB/s eta 0:00:02\n",
      "   ---------------------------- ----------- 6.4/9.1 MB 1.7 MB/s eta 0:00:02\n",
      "   ---------------------------- ----------- 6.5/9.1 MB 1.7 MB/s eta 0:00:02\n",
      "   ---------------------------- ----------- 6.5/9.1 MB 1.7 MB/s eta 0:00:02\n",
      "   ---------------------------- ----------- 6.6/9.1 MB 1.7 MB/s eta 0:00:02\n",
      "   ----------------------------- ---------- 6.6/9.1 MB 1.7 MB/s eta 0:00:02\n",
      "   ----------------------------- ---------- 6.7/9.1 MB 1.7 MB/s eta 0:00:02\n",
      "   ----------------------------- ---------- 6.8/9.1 MB 1.7 MB/s eta 0:00:02\n",
      "   ----------------------------- ---------- 6.8/9.1 MB 1.7 MB/s eta 0:00:02\n",
      "   ------------------------------ --------- 6.9/9.1 MB 1.7 MB/s eta 0:00:02\n",
      "   ------------------------------ --------- 6.9/9.1 MB 1.7 MB/s eta 0:00:02\n",
      "   ------------------------------ --------- 7.0/9.1 MB 1.7 MB/s eta 0:00:02\n",
      "   ------------------------------- -------- 7.1/9.1 MB 1.7 MB/s eta 0:00:02\n",
      "   ------------------------------- -------- 7.2/9.1 MB 1.7 MB/s eta 0:00:02\n",
      "   ------------------------------- -------- 7.2/9.1 MB 1.7 MB/s eta 0:00:02\n",
      "   ------------------------------- -------- 7.3/9.1 MB 1.7 MB/s eta 0:00:02\n",
      "   -------------------------------- ------- 7.4/9.1 MB 1.7 MB/s eta 0:00:02\n",
      "   -------------------------------- ------- 7.4/9.1 MB 1.6 MB/s eta 0:00:02\n",
      "   --------------------------------- ------ 7.6/9.1 MB 1.7 MB/s eta 0:00:01\n",
      "   --------------------------------- ------ 7.6/9.1 MB 1.6 MB/s eta 0:00:01\n",
      "   --------------------------------- ------ 7.7/9.1 MB 1.7 MB/s eta 0:00:01\n",
      "   ---------------------------------- ----- 7.8/9.1 MB 1.7 MB/s eta 0:00:01\n",
      "   ---------------------------------- ----- 7.9/9.1 MB 1.7 MB/s eta 0:00:01\n",
      "   ---------------------------------- ----- 7.9/9.1 MB 1.7 MB/s eta 0:00:01\n",
      "   ---------------------------------- ----- 7.9/9.1 MB 1.7 MB/s eta 0:00:01\n",
      "   ---------------------------------- ----- 7.9/9.1 MB 1.7 MB/s eta 0:00:01\n",
      "   ----------------------------------- ---- 8.0/9.1 MB 1.6 MB/s eta 0:00:01\n",
      "   ----------------------------------- ---- 8.1/9.1 MB 1.6 MB/s eta 0:00:01\n",
      "   ----------------------------------- ---- 8.1/9.1 MB 1.6 MB/s eta 0:00:01\n",
      "   ----------------------------------- ---- 8.2/9.1 MB 1.6 MB/s eta 0:00:01\n",
      "   ------------------------------------ --- 8.3/9.1 MB 1.6 MB/s eta 0:00:01\n",
      "   ------------------------------------ --- 8.3/9.1 MB 1.6 MB/s eta 0:00:01\n",
      "   ------------------------------------ --- 8.4/9.1 MB 1.6 MB/s eta 0:00:01\n",
      "   ------------------------------------- -- 8.5/9.1 MB 1.6 MB/s eta 0:00:01\n",
      "   ------------------------------------- -- 8.6/9.1 MB 1.6 MB/s eta 0:00:01\n",
      "   -------------------------------------- - 8.7/9.1 MB 1.6 MB/s eta 0:00:01\n",
      "   -------------------------------------- - 8.8/9.1 MB 1.6 MB/s eta 0:00:01\n",
      "   ---------------------------------------  8.9/9.1 MB 1.6 MB/s eta 0:00:01\n",
      "   ---------------------------------------  9.0/9.1 MB 1.6 MB/s eta 0:00:01\n",
      "   ---------------------------------------  9.0/9.1 MB 1.6 MB/s eta 0:00:01\n",
      "   ---------------------------------------  9.0/9.1 MB 1.6 MB/s eta 0:00:01\n",
      "   ---------------------------------------  9.1/9.1 MB 1.6 MB/s eta 0:00:01\n",
      "   ---------------------------------------  9.1/9.1 MB 1.6 MB/s eta 0:00:01\n",
      "   ---------------------------------------  9.1/9.1 MB 1.6 MB/s eta 0:00:01\n",
      "   ---------------------------------------- 9.1/9.1 MB 1.5 MB/s eta 0:00:00\n",
      "Downloading joblib-1.3.2-py3-none-any.whl (302 kB)\n",
      "   ---------------------------------------- 0.0/302.2 kB ? eta -:--:--\n",
      "   ------------ --------------------------- 92.2/302.2 kB 1.7 MB/s eta 0:00:01\n",
      "   -------------------- ------------------- 153.6/302.2 kB 1.3 MB/s eta 0:00:01\n",
      "   ------------------------------- -------- 235.5/302.2 kB 1.4 MB/s eta 0:00:01\n",
      "   ------------------------------------- -- 286.7/302.2 kB 1.4 MB/s eta 0:00:01\n",
      "   ---------------------------------------- 302.2/302.2 kB 1.2 MB/s eta 0:00:00\n",
      "Downloading threadpoolctl-3.2.0-py3-none-any.whl (15 kB)\n",
      "Installing collected packages: threadpoolctl, joblib, scikit-learn\n",
      "Successfully installed joblib-1.3.2 scikit-learn-1.3.2 threadpoolctl-3.2.0\n",
      "Note: you may need to restart the kernel to use updated packages.\n"
     ]
    },
    {
     "name": "stderr",
     "output_type": "stream",
     "text": [
      "\n",
      "[notice] A new release of pip is available: 23.3.1 -> 23.3.2\n",
      "[notice] To update, run: python.exe -m pip install --upgrade pip\n"
     ]
    }
   ],
   "source": [
    "%pip install matplotlib\n",
    "%pip install seaborn\n",
    "%pip install pandas\n",
    "%pip install scikit-learn"
   ]
  },
  {
   "cell_type": "code",
   "execution_count": 90,
   "metadata": {},
   "outputs": [],
   "source": [
    "import numpy as np \n",
    "import matplotlib.pyplot as plt \n",
    "import seaborn as sns \n",
    "import pandas as pd \n",
    "\n",
    "from sklearn.model_selection import train_test_split\n",
    "from sklearn.linear_model import LinearRegression\n",
    "from sklearn import metrics"
   ]
  },
  {
   "cell_type": "code",
   "execution_count": 5,
   "metadata": {},
   "outputs": [
    {
     "name": "stdout",
     "output_type": "stream",
     "text": [
      "<class 'pandas.core.frame.DataFrame'>\n",
      "RangeIndex: 1084 entries, 0 to 1083\n",
      "Data columns (total 7 columns):\n",
      " #   Column    Non-Null Count  Dtype \n",
      "---  ------    --------------  ----- \n",
      " 0   Date      1084 non-null   object\n",
      " 1   Price     1084 non-null   object\n",
      " 2   Open      1084 non-null   object\n",
      " 3   High      1084 non-null   object\n",
      " 4   Low       1084 non-null   object\n",
      " 5   Vol.      1084 non-null   object\n",
      " 6   Change %  1084 non-null   object\n",
      "dtypes: object(7)\n",
      "memory usage: 59.4+ KB\n"
     ]
    }
   ],
   "source": [
    "data = pd.read_csv(r'F:\\Projects\\New folder\\linear_regression\\data_set.csv')\n",
    "data.info()"
   ]
  },
  {
   "cell_type": "code",
   "execution_count": 6,
   "metadata": {},
   "outputs": [
    {
     "data": {
      "text/plain": [
       "Index(['Date', 'Price', 'Open', 'High', 'Low', 'Vol.', 'Change %'], dtype='object')"
      ]
     },
     "execution_count": 6,
     "metadata": {},
     "output_type": "execute_result"
    }
   ],
   "source": [
    "data.columns"
   ]
  },
  {
   "cell_type": "code",
   "execution_count": 7,
   "metadata": {},
   "outputs": [
    {
     "data": {
      "text/html": [
       "<div>\n",
       "<style scoped>\n",
       "    .dataframe tbody tr th:only-of-type {\n",
       "        vertical-align: middle;\n",
       "    }\n",
       "\n",
       "    .dataframe tbody tr th {\n",
       "        vertical-align: top;\n",
       "    }\n",
       "\n",
       "    .dataframe thead th {\n",
       "        text-align: right;\n",
       "    }\n",
       "</style>\n",
       "<table border=\"1\" class=\"dataframe\">\n",
       "  <thead>\n",
       "    <tr style=\"text-align: right;\">\n",
       "      <th></th>\n",
       "      <th>Date</th>\n",
       "      <th>Price</th>\n",
       "      <th>Open</th>\n",
       "      <th>High</th>\n",
       "      <th>Low</th>\n",
       "      <th>Vol.</th>\n",
       "      <th>Change %</th>\n",
       "    </tr>\n",
       "  </thead>\n",
       "  <tbody>\n",
       "    <tr>\n",
       "      <th>0</th>\n",
       "      <td>01/09/2021</td>\n",
       "      <td>40,093.5</td>\n",
       "      <td>40,573.4</td>\n",
       "      <td>41,125.0</td>\n",
       "      <td>39,449.1</td>\n",
       "      <td>0.15K</td>\n",
       "      <td>-1.18%</td>\n",
       "    </tr>\n",
       "    <tr>\n",
       "      <th>1</th>\n",
       "      <td>01/08/2021</td>\n",
       "      <td>40,573.4</td>\n",
       "      <td>39,429.5</td>\n",
       "      <td>41,226.2</td>\n",
       "      <td>37,951.6</td>\n",
       "      <td>0.31K</td>\n",
       "      <td>2.90%</td>\n",
       "    </tr>\n",
       "    <tr>\n",
       "      <th>2</th>\n",
       "      <td>01/07/2021</td>\n",
       "      <td>39,429.5</td>\n",
       "      <td>36,716.5</td>\n",
       "      <td>39,429.5</td>\n",
       "      <td>36,716.5</td>\n",
       "      <td>0.28K</td>\n",
       "      <td>7.39%</td>\n",
       "    </tr>\n",
       "    <tr>\n",
       "      <th>3</th>\n",
       "      <td>01/06/2021</td>\n",
       "      <td>36,716.5</td>\n",
       "      <td>33,942.1</td>\n",
       "      <td>36,716.5</td>\n",
       "      <td>33,808.0</td>\n",
       "      <td>0.29K</td>\n",
       "      <td>8.17%</td>\n",
       "    </tr>\n",
       "    <tr>\n",
       "      <th>4</th>\n",
       "      <td>01/05/2021</td>\n",
       "      <td>33,942.1</td>\n",
       "      <td>32,000.0</td>\n",
       "      <td>33,942.1</td>\n",
       "      <td>30,940.8</td>\n",
       "      <td>0.25K</td>\n",
       "      <td>6.14%</td>\n",
       "    </tr>\n",
       "  </tbody>\n",
       "</table>\n",
       "</div>"
      ],
      "text/plain": [
       "         Date     Price      Open      High       Low   Vol. Change %\n",
       "0  01/09/2021  40,093.5  40,573.4  41,125.0  39,449.1  0.15K   -1.18%\n",
       "1  01/08/2021  40,573.4  39,429.5  41,226.2  37,951.6  0.31K    2.90%\n",
       "2  01/07/2021  39,429.5  36,716.5  39,429.5  36,716.5  0.28K    7.39%\n",
       "3  01/06/2021  36,716.5  33,942.1  36,716.5  33,808.0  0.29K    8.17%\n",
       "4  01/05/2021  33,942.1  32,000.0  33,942.1  30,940.8  0.25K    6.14%"
      ]
     },
     "execution_count": 7,
     "metadata": {},
     "output_type": "execute_result"
    }
   ],
   "source": [
    "data.head()"
   ]
  },
  {
   "cell_type": "code",
   "execution_count": 134,
   "metadata": {},
   "outputs": [],
   "source": [
    "data=data.replace(',','',regex=True)"
   ]
  },
  {
   "cell_type": "code",
   "execution_count": 160,
   "metadata": {},
   "outputs": [],
   "source": [
    "temp=data[['Vol.']]"
   ]
  },
  {
   "cell_type": "code",
   "execution_count": 161,
   "metadata": {},
   "outputs": [
    {
     "data": {
      "text/html": [
       "<div>\n",
       "<style scoped>\n",
       "    .dataframe tbody tr th:only-of-type {\n",
       "        vertical-align: middle;\n",
       "    }\n",
       "\n",
       "    .dataframe tbody tr th {\n",
       "        vertical-align: top;\n",
       "    }\n",
       "\n",
       "    .dataframe thead th {\n",
       "        text-align: right;\n",
       "    }\n",
       "</style>\n",
       "<table border=\"1\" class=\"dataframe\">\n",
       "  <thead>\n",
       "    <tr style=\"text-align: right;\">\n",
       "      <th></th>\n",
       "      <th>Vol.</th>\n",
       "    </tr>\n",
       "  </thead>\n",
       "  <tbody>\n",
       "    <tr>\n",
       "      <th>0</th>\n",
       "      <td>0.15</td>\n",
       "    </tr>\n",
       "    <tr>\n",
       "      <th>1</th>\n",
       "      <td>0.31</td>\n",
       "    </tr>\n",
       "    <tr>\n",
       "      <th>2</th>\n",
       "      <td>0.28</td>\n",
       "    </tr>\n",
       "    <tr>\n",
       "      <th>3</th>\n",
       "      <td>0.29</td>\n",
       "    </tr>\n",
       "    <tr>\n",
       "      <th>4</th>\n",
       "      <td>0.25</td>\n",
       "    </tr>\n",
       "  </tbody>\n",
       "</table>\n",
       "</div>"
      ],
      "text/plain": [
       "   Vol.\n",
       "0  0.15\n",
       "1  0.31\n",
       "2  0.28\n",
       "3  0.29\n",
       "4  0.25"
      ]
     },
     "execution_count": 161,
     "metadata": {},
     "output_type": "execute_result"
    }
   ],
   "source": [
    "temp.head()"
   ]
  },
  {
   "cell_type": "code",
   "execution_count": 183,
   "metadata": {},
   "outputs": [],
   "source": [
    "temp=np.asarray(data['Vol.'])\n",
    "temp=np.asarray([float(z)*1000 for z in temp])"
   ]
  },
  {
   "cell_type": "code",
   "execution_count": 185,
   "metadata": {},
   "outputs": [],
   "source": [
    "data['Vol.']=temp"
   ]
  },
  {
   "cell_type": "code",
   "execution_count": 193,
   "metadata": {},
   "outputs": [],
   "source": [
    "x=data[['Open','Price','High','Low','Vol.']]\n",
    "y=data['Change %']\n",
    "\n"
   ]
  },
  {
   "cell_type": "code",
   "execution_count": 194,
   "metadata": {},
   "outputs": [],
   "source": [
    "temp=y\n",
    "y=np.where(data['Change %'].shift(-1)>data['Change %'],1,0)"
   ]
  },
  {
   "cell_type": "code",
   "execution_count": 195,
   "metadata": {},
   "outputs": [
    {
     "data": {
      "text/plain": [
       "array([1, 1, 1, ..., 0, 0, 0])"
      ]
     },
     "execution_count": 195,
     "metadata": {},
     "output_type": "execute_result"
    }
   ],
   "source": [
    "y"
   ]
  },
  {
   "cell_type": "code",
   "execution_count": 197,
   "metadata": {},
   "outputs": [],
   "source": [
    "\n",
    "y=pd.DataFrame(y,columns=['Change'])"
   ]
  },
  {
   "cell_type": "code",
   "execution_count": 198,
   "metadata": {},
   "outputs": [
    {
     "data": {
      "text/html": [
       "<div>\n",
       "<style scoped>\n",
       "    .dataframe tbody tr th:only-of-type {\n",
       "        vertical-align: middle;\n",
       "    }\n",
       "\n",
       "    .dataframe tbody tr th {\n",
       "        vertical-align: top;\n",
       "    }\n",
       "\n",
       "    .dataframe thead th {\n",
       "        text-align: right;\n",
       "    }\n",
       "</style>\n",
       "<table border=\"1\" class=\"dataframe\">\n",
       "  <thead>\n",
       "    <tr style=\"text-align: right;\">\n",
       "      <th></th>\n",
       "      <th>Change</th>\n",
       "    </tr>\n",
       "  </thead>\n",
       "  <tbody>\n",
       "    <tr>\n",
       "      <th>0</th>\n",
       "      <td>1</td>\n",
       "    </tr>\n",
       "    <tr>\n",
       "      <th>1</th>\n",
       "      <td>1</td>\n",
       "    </tr>\n",
       "    <tr>\n",
       "      <th>2</th>\n",
       "      <td>1</td>\n",
       "    </tr>\n",
       "    <tr>\n",
       "      <th>3</th>\n",
       "      <td>0</td>\n",
       "    </tr>\n",
       "    <tr>\n",
       "      <th>4</th>\n",
       "      <td>0</td>\n",
       "    </tr>\n",
       "    <tr>\n",
       "      <th>...</th>\n",
       "      <td>...</td>\n",
       "    </tr>\n",
       "    <tr>\n",
       "      <th>1079</th>\n",
       "      <td>1</td>\n",
       "    </tr>\n",
       "    <tr>\n",
       "      <th>1080</th>\n",
       "      <td>1</td>\n",
       "    </tr>\n",
       "    <tr>\n",
       "      <th>1081</th>\n",
       "      <td>0</td>\n",
       "    </tr>\n",
       "    <tr>\n",
       "      <th>1082</th>\n",
       "      <td>0</td>\n",
       "    </tr>\n",
       "    <tr>\n",
       "      <th>1083</th>\n",
       "      <td>0</td>\n",
       "    </tr>\n",
       "  </tbody>\n",
       "</table>\n",
       "<p>1084 rows × 1 columns</p>\n",
       "</div>"
      ],
      "text/plain": [
       "      Change\n",
       "0          1\n",
       "1          1\n",
       "2          1\n",
       "3          0\n",
       "4          0\n",
       "...      ...\n",
       "1079       1\n",
       "1080       1\n",
       "1081       0\n",
       "1082       0\n",
       "1083       0\n",
       "\n",
       "[1084 rows x 1 columns]"
      ]
     },
     "execution_count": 198,
     "metadata": {},
     "output_type": "execute_result"
    }
   ],
   "source": [
    "y"
   ]
  },
  {
   "cell_type": "code",
   "execution_count": 199,
   "metadata": {},
   "outputs": [
    {
     "name": "stdout",
     "output_type": "stream",
     "text": [
      "         Open    Price     High      Low   Vol.\n",
      "0     40573.4  40093.5  41125.0  39449.1  150.0\n",
      "1     39429.5  40573.4  41226.2  37951.6  310.0\n",
      "2     36716.5  39429.5  39429.5  36716.5  280.0\n",
      "3     33942.1  36716.5  36716.5  33808.0  290.0\n",
      "4     32000.0  33942.1  33942.1  30940.8  250.0\n",
      "...       ...      ...      ...      ...    ...\n",
      "1079  11255.7  10998.6  11579.2   9823.5   60.0\n",
      "1080  11240.0  11255.7  11750.0  11000.0   50.0\n",
      "1081  10818.0  11240.0  12114.0  10509.8   60.0\n",
      "1082  10695.0  10799.0  11928.0  10000.0   60.0\n",
      "1083  11357.7  10695.0  12830.0  10113.5   60.0\n",
      "\n",
      "[1084 rows x 5 columns] \t       Change\n",
      "0          1\n",
      "1          1\n",
      "2          1\n",
      "3          0\n",
      "4          0\n",
      "...      ...\n",
      "1079       1\n",
      "1080       1\n",
      "1081       0\n",
      "1082       0\n",
      "1083       0\n",
      "\n",
      "[1084 rows x 1 columns]\n"
     ]
    }
   ],
   "source": [
    "print(x,\"\\t\",y)"
   ]
  },
  {
   "cell_type": "code",
   "execution_count": 200,
   "metadata": {},
   "outputs": [],
   "source": [
    "x_train,x_test,y_train,y_test=train_test_split(x,y,test_size=0.3)\n",
    "model=LinearRegression()"
   ]
  },
  {
   "cell_type": "code",
   "execution_count": 201,
   "metadata": {},
   "outputs": [
    {
     "data": {
      "text/html": [
       "<style>#sk-container-id-4 {color: black;}#sk-container-id-4 pre{padding: 0;}#sk-container-id-4 div.sk-toggleable {background-color: white;}#sk-container-id-4 label.sk-toggleable__label {cursor: pointer;display: block;width: 100%;margin-bottom: 0;padding: 0.3em;box-sizing: border-box;text-align: center;}#sk-container-id-4 label.sk-toggleable__label-arrow:before {content: \"▸\";float: left;margin-right: 0.25em;color: #696969;}#sk-container-id-4 label.sk-toggleable__label-arrow:hover:before {color: black;}#sk-container-id-4 div.sk-estimator:hover label.sk-toggleable__label-arrow:before {color: black;}#sk-container-id-4 div.sk-toggleable__content {max-height: 0;max-width: 0;overflow: hidden;text-align: left;background-color: #f0f8ff;}#sk-container-id-4 div.sk-toggleable__content pre {margin: 0.2em;color: black;border-radius: 0.25em;background-color: #f0f8ff;}#sk-container-id-4 input.sk-toggleable__control:checked~div.sk-toggleable__content {max-height: 200px;max-width: 100%;overflow: auto;}#sk-container-id-4 input.sk-toggleable__control:checked~label.sk-toggleable__label-arrow:before {content: \"▾\";}#sk-container-id-4 div.sk-estimator input.sk-toggleable__control:checked~label.sk-toggleable__label {background-color: #d4ebff;}#sk-container-id-4 div.sk-label input.sk-toggleable__control:checked~label.sk-toggleable__label {background-color: #d4ebff;}#sk-container-id-4 input.sk-hidden--visually {border: 0;clip: rect(1px 1px 1px 1px);clip: rect(1px, 1px, 1px, 1px);height: 1px;margin: -1px;overflow: hidden;padding: 0;position: absolute;width: 1px;}#sk-container-id-4 div.sk-estimator {font-family: monospace;background-color: #f0f8ff;border: 1px dotted black;border-radius: 0.25em;box-sizing: border-box;margin-bottom: 0.5em;}#sk-container-id-4 div.sk-estimator:hover {background-color: #d4ebff;}#sk-container-id-4 div.sk-parallel-item::after {content: \"\";width: 100%;border-bottom: 1px solid gray;flex-grow: 1;}#sk-container-id-4 div.sk-label:hover label.sk-toggleable__label {background-color: #d4ebff;}#sk-container-id-4 div.sk-serial::before {content: \"\";position: absolute;border-left: 1px solid gray;box-sizing: border-box;top: 0;bottom: 0;left: 50%;z-index: 0;}#sk-container-id-4 div.sk-serial {display: flex;flex-direction: column;align-items: center;background-color: white;padding-right: 0.2em;padding-left: 0.2em;position: relative;}#sk-container-id-4 div.sk-item {position: relative;z-index: 1;}#sk-container-id-4 div.sk-parallel {display: flex;align-items: stretch;justify-content: center;background-color: white;position: relative;}#sk-container-id-4 div.sk-item::before, #sk-container-id-4 div.sk-parallel-item::before {content: \"\";position: absolute;border-left: 1px solid gray;box-sizing: border-box;top: 0;bottom: 0;left: 50%;z-index: -1;}#sk-container-id-4 div.sk-parallel-item {display: flex;flex-direction: column;z-index: 1;position: relative;background-color: white;}#sk-container-id-4 div.sk-parallel-item:first-child::after {align-self: flex-end;width: 50%;}#sk-container-id-4 div.sk-parallel-item:last-child::after {align-self: flex-start;width: 50%;}#sk-container-id-4 div.sk-parallel-item:only-child::after {width: 0;}#sk-container-id-4 div.sk-dashed-wrapped {border: 1px dashed gray;margin: 0 0.4em 0.5em 0.4em;box-sizing: border-box;padding-bottom: 0.4em;background-color: white;}#sk-container-id-4 div.sk-label label {font-family: monospace;font-weight: bold;display: inline-block;line-height: 1.2em;}#sk-container-id-4 div.sk-label-container {text-align: center;}#sk-container-id-4 div.sk-container {/* jupyter's `normalize.less` sets `[hidden] { display: none; }` but bootstrap.min.css set `[hidden] { display: none !important; }` so we also need the `!important` here to be able to override the default hidden behavior on the sphinx rendered scikit-learn.org. See: https://github.com/scikit-learn/scikit-learn/issues/21755 */display: inline-block !important;position: relative;}#sk-container-id-4 div.sk-text-repr-fallback {display: none;}</style><div id=\"sk-container-id-4\" class=\"sk-top-container\"><div class=\"sk-text-repr-fallback\"><pre>LinearRegression()</pre><b>In a Jupyter environment, please rerun this cell to show the HTML representation or trust the notebook. <br />On GitHub, the HTML representation is unable to render, please try loading this page with nbviewer.org.</b></div><div class=\"sk-container\" hidden><div class=\"sk-item\"><div class=\"sk-estimator sk-toggleable\"><input class=\"sk-toggleable__control sk-hidden--visually\" id=\"sk-estimator-id-4\" type=\"checkbox\" checked><label for=\"sk-estimator-id-4\" class=\"sk-toggleable__label sk-toggleable__label-arrow\">LinearRegression</label><div class=\"sk-toggleable__content\"><pre>LinearRegression()</pre></div></div></div></div></div>"
      ],
      "text/plain": [
       "LinearRegression()"
      ]
     },
     "execution_count": 201,
     "metadata": {},
     "output_type": "execute_result"
    }
   ],
   "source": [
    "model.fit(x_train,y_train)"
   ]
  },
  {
   "cell_type": "code",
   "execution_count": 202,
   "metadata": {},
   "outputs": [],
   "source": [
    "prediction=model.predict(x_test)"
   ]
  },
  {
   "cell_type": "code",
   "execution_count": 203,
   "metadata": {},
   "outputs": [
    {
     "data": {
      "text/plain": [
       "<matplotlib.collections.PathCollection at 0x19b673415b0>"
      ]
     },
     "execution_count": 203,
     "metadata": {},
     "output_type": "execute_result"
    },
    {
     "data": {
      "image/png": "[encoded data removed]",
      "text/plain": [
       "<Figure size 640x480 with 1 Axes>"
      ]
     },
     "metadata": {},
     "output_type": "display_data"
    }
   ],
   "source": [
    "plt.scatter(prediction,y_test)"
   ]
  },
  {
   "cell_type": "code",
   "execution_count": 204,
   "metadata": {},
   "outputs": [
    {
     "data": {
      "text/plain": [
       "0.46025799134800494"
      ]
     },
     "execution_count": 204,
     "metadata": {},
     "output_type": "execute_result"
    }
   ],
   "source": [
    "metrics.mean_absolute_error(y_test, prediction)"
   ]
  },
  {
   "cell_type": "code",
   "execution_count": 205,
   "metadata": {},
   "outputs": [
    {
     "data": {
      "text/plain": [
       "0.23691702985007476"
      ]
     },
     "execution_count": 205,
     "metadata": {},
     "output_type": "execute_result"
    }
   ],
   "source": [
    "metrics.mean_squared_error(y_test, prediction)"
   ]
  },
  {
   "cell_type": "code",
   "execution_count": 206,
   "metadata": {},
   "outputs": [
    {
     "data": {
      "text/plain": [
       "0.48674123500076993"
      ]
     },
     "execution_count": 206,
     "metadata": {},
     "output_type": "execute_result"
    }
   ],
   "source": [
    "np.sqrt(metrics.mean_squared_error(y_test,prediction))"
   ]
  }
 ],
 "metadata": {
  "kernelspec": {
   "display_name": "Python 3",
   "language": "python",
   "name": "python3"
  },
  "language_info": {
   "codemirror_mode": {
    "name": "ipython",
    "version": 3
   },
   "file_extension": ".py",
   "mimetype": "text/x-python",
   "name": "python",
   "nbconvert_exporter": "python",
   "pygments_lexer": "ipython3",
   "version": "3.12.1"
  }
 },
 "nbformat": 4,
 "nbformat_minor": 2
}
